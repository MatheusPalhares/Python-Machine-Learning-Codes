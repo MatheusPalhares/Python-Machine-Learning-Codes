{
 "cells": [
  {
   "cell_type": "code",
   "execution_count": 8,
   "metadata": {
    "collapsed": true
   },
   "outputs": [],
   "source": [
    "#%pip install pandas\n",
    "#%pip install numpy\n",
    "#%pip install matplotlib\n",
    "#%pip install seaborn\n",
    "#%pip install hypertools\n",
    "#%pip install scikit-learn\n",
    "#%pip install tensorflow\n",
    "import pandas as pd\n",
    "import numpy as np\n",
    "from matplotlib import pyplot as plt\n",
    "import hypertools as hyp \n",
    "from sklearn.linear_model import LogisticRegression # to apply the Logistic regression\n",
    "from sklearn.model_selection import train_test_split # to split the data into two parts\n",
    "from sklearn.model_selection import GridSearchCV# for tuning parameter\n",
    "from sklearn.ensemble import RandomForestClassifier # for random forest classifier\n",
    "from sklearn.naive_bayes import GaussianNB\n",
    "from sklearn.neighbors import KNeighborsClassifier\n",
    "from sklearn.tree import DecisionTreeClassifier\n",
    "import matplotlib\n",
    "from matplotlib import pyplot as plt\n",
    "from sklearn import svm # for Support Vector Machine\n",
    "from sklearn import metrics # for the check the error and accuracy of the model\n",
    "\n",
    "%matplotlib inline\n",
    "\n",
    "pd.set_option('display.max_columns', 100)"
   ]
  },
  {
   "cell_type": "code",
   "execution_count": 9,
   "metadata": {},
   "outputs": [
    {
     "data": {
      "text/html": [
       "<div>\n",
       "<style scoped>\n",
       "    .dataframe tbody tr th:only-of-type {\n",
       "        vertical-align: middle;\n",
       "    }\n",
       "\n",
       "    .dataframe tbody tr th {\n",
       "        vertical-align: top;\n",
       "    }\n",
       "\n",
       "    .dataframe thead th {\n",
       "        text-align: right;\n",
       "    }\n",
       "</style>\n",
       "<table border=\"1\" class=\"dataframe\">\n",
       "  <thead>\n",
       "    <tr style=\"text-align: right;\">\n",
       "      <th></th>\n",
       "      <th>id</th>\n",
       "      <th>diagnostico</th>\n",
       "      <th>raio_med</th>\n",
       "      <th>textura_med</th>\n",
       "      <th>perimetro_med</th>\n",
       "      <th>area_med</th>\n",
       "      <th>suavidade_med</th>\n",
       "      <th>compacidade_med</th>\n",
       "      <th>concavidade_med</th>\n",
       "      <th>pontos concavos_med</th>\n",
       "      <th>simetria_med</th>\n",
       "      <th>dimensao fractal_med</th>\n",
       "      <th>raio_ep</th>\n",
       "      <th>textura_ep</th>\n",
       "      <th>perimetro_ep</th>\n",
       "      <th>area_ep</th>\n",
       "      <th>suavidade_ep</th>\n",
       "      <th>compacidade_ep</th>\n",
       "      <th>concavidade_ep</th>\n",
       "      <th>pontos concavos_ep</th>\n",
       "      <th>simetria_ep</th>\n",
       "      <th>dimensao fractal_ep</th>\n",
       "      <th>raio_pior</th>\n",
       "      <th>textura_pior</th>\n",
       "      <th>perimetro_pior</th>\n",
       "      <th>area_pior</th>\n",
       "      <th>suavidade_pior</th>\n",
       "      <th>compacidade_pior</th>\n",
       "      <th>concavidade_pior</th>\n",
       "      <th>pontos concavos_pior</th>\n",
       "      <th>simetria_pior</th>\n",
       "      <th>dimensao fractal_pior</th>\n",
       "      <th>Unnamed: 32</th>\n",
       "    </tr>\n",
       "  </thead>\n",
       "  <tbody>\n",
       "    <tr>\n",
       "      <th>0</th>\n",
       "      <td>842302</td>\n",
       "      <td>M</td>\n",
       "      <td>17.99</td>\n",
       "      <td>10.38</td>\n",
       "      <td>122.80</td>\n",
       "      <td>1001.0</td>\n",
       "      <td>0.11840</td>\n",
       "      <td>0.27760</td>\n",
       "      <td>0.3001</td>\n",
       "      <td>0.14710</td>\n",
       "      <td>0.2419</td>\n",
       "      <td>0.07871</td>\n",
       "      <td>1.0950</td>\n",
       "      <td>0.9053</td>\n",
       "      <td>8.589</td>\n",
       "      <td>153.40</td>\n",
       "      <td>0.006399</td>\n",
       "      <td>0.04904</td>\n",
       "      <td>0.05373</td>\n",
       "      <td>0.01587</td>\n",
       "      <td>0.03003</td>\n",
       "      <td>0.006193</td>\n",
       "      <td>25.38</td>\n",
       "      <td>17.33</td>\n",
       "      <td>184.60</td>\n",
       "      <td>2019.0</td>\n",
       "      <td>0.1622</td>\n",
       "      <td>0.6656</td>\n",
       "      <td>0.7119</td>\n",
       "      <td>0.2654</td>\n",
       "      <td>0.4601</td>\n",
       "      <td>0.11890</td>\n",
       "      <td>NaN</td>\n",
       "    </tr>\n",
       "    <tr>\n",
       "      <th>1</th>\n",
       "      <td>842517</td>\n",
       "      <td>M</td>\n",
       "      <td>20.57</td>\n",
       "      <td>17.77</td>\n",
       "      <td>132.90</td>\n",
       "      <td>1326.0</td>\n",
       "      <td>0.08474</td>\n",
       "      <td>0.07864</td>\n",
       "      <td>0.0869</td>\n",
       "      <td>0.07017</td>\n",
       "      <td>0.1812</td>\n",
       "      <td>0.05667</td>\n",
       "      <td>0.5435</td>\n",
       "      <td>0.7339</td>\n",
       "      <td>3.398</td>\n",
       "      <td>74.08</td>\n",
       "      <td>0.005225</td>\n",
       "      <td>0.01308</td>\n",
       "      <td>0.01860</td>\n",
       "      <td>0.01340</td>\n",
       "      <td>0.01389</td>\n",
       "      <td>0.003532</td>\n",
       "      <td>24.99</td>\n",
       "      <td>23.41</td>\n",
       "      <td>158.80</td>\n",
       "      <td>1956.0</td>\n",
       "      <td>0.1238</td>\n",
       "      <td>0.1866</td>\n",
       "      <td>0.2416</td>\n",
       "      <td>0.1860</td>\n",
       "      <td>0.2750</td>\n",
       "      <td>0.08902</td>\n",
       "      <td>NaN</td>\n",
       "    </tr>\n",
       "    <tr>\n",
       "      <th>2</th>\n",
       "      <td>84300903</td>\n",
       "      <td>M</td>\n",
       "      <td>19.69</td>\n",
       "      <td>21.25</td>\n",
       "      <td>130.00</td>\n",
       "      <td>1203.0</td>\n",
       "      <td>0.10960</td>\n",
       "      <td>0.15990</td>\n",
       "      <td>0.1974</td>\n",
       "      <td>0.12790</td>\n",
       "      <td>0.2069</td>\n",
       "      <td>0.05999</td>\n",
       "      <td>0.7456</td>\n",
       "      <td>0.7869</td>\n",
       "      <td>4.585</td>\n",
       "      <td>94.03</td>\n",
       "      <td>0.006150</td>\n",
       "      <td>0.04006</td>\n",
       "      <td>0.03832</td>\n",
       "      <td>0.02058</td>\n",
       "      <td>0.02250</td>\n",
       "      <td>0.004571</td>\n",
       "      <td>23.57</td>\n",
       "      <td>25.53</td>\n",
       "      <td>152.50</td>\n",
       "      <td>1709.0</td>\n",
       "      <td>0.1444</td>\n",
       "      <td>0.4245</td>\n",
       "      <td>0.4504</td>\n",
       "      <td>0.2430</td>\n",
       "      <td>0.3613</td>\n",
       "      <td>0.08758</td>\n",
       "      <td>NaN</td>\n",
       "    </tr>\n",
       "    <tr>\n",
       "      <th>3</th>\n",
       "      <td>84348301</td>\n",
       "      <td>M</td>\n",
       "      <td>11.42</td>\n",
       "      <td>20.38</td>\n",
       "      <td>77.58</td>\n",
       "      <td>386.1</td>\n",
       "      <td>0.14250</td>\n",
       "      <td>0.28390</td>\n",
       "      <td>0.2414</td>\n",
       "      <td>0.10520</td>\n",
       "      <td>0.2597</td>\n",
       "      <td>0.09744</td>\n",
       "      <td>0.4956</td>\n",
       "      <td>1.1560</td>\n",
       "      <td>3.445</td>\n",
       "      <td>27.23</td>\n",
       "      <td>0.009110</td>\n",
       "      <td>0.07458</td>\n",
       "      <td>0.05661</td>\n",
       "      <td>0.01867</td>\n",
       "      <td>0.05963</td>\n",
       "      <td>0.009208</td>\n",
       "      <td>14.91</td>\n",
       "      <td>26.50</td>\n",
       "      <td>98.87</td>\n",
       "      <td>567.7</td>\n",
       "      <td>0.2098</td>\n",
       "      <td>0.8663</td>\n",
       "      <td>0.6869</td>\n",
       "      <td>0.2575</td>\n",
       "      <td>0.6638</td>\n",
       "      <td>0.17300</td>\n",
       "      <td>NaN</td>\n",
       "    </tr>\n",
       "    <tr>\n",
       "      <th>4</th>\n",
       "      <td>84358402</td>\n",
       "      <td>M</td>\n",
       "      <td>20.29</td>\n",
       "      <td>14.34</td>\n",
       "      <td>135.10</td>\n",
       "      <td>1297.0</td>\n",
       "      <td>0.10030</td>\n",
       "      <td>0.13280</td>\n",
       "      <td>0.1980</td>\n",
       "      <td>0.10430</td>\n",
       "      <td>0.1809</td>\n",
       "      <td>0.05883</td>\n",
       "      <td>0.7572</td>\n",
       "      <td>0.7813</td>\n",
       "      <td>5.438</td>\n",
       "      <td>94.44</td>\n",
       "      <td>0.011490</td>\n",
       "      <td>0.02461</td>\n",
       "      <td>0.05688</td>\n",
       "      <td>0.01885</td>\n",
       "      <td>0.01756</td>\n",
       "      <td>0.005115</td>\n",
       "      <td>22.54</td>\n",
       "      <td>16.67</td>\n",
       "      <td>152.20</td>\n",
       "      <td>1575.0</td>\n",
       "      <td>0.1374</td>\n",
       "      <td>0.2050</td>\n",
       "      <td>0.4000</td>\n",
       "      <td>0.1625</td>\n",
       "      <td>0.2364</td>\n",
       "      <td>0.07678</td>\n",
       "      <td>NaN</td>\n",
       "    </tr>\n",
       "    <tr>\n",
       "      <th>5</th>\n",
       "      <td>843786</td>\n",
       "      <td>M</td>\n",
       "      <td>12.45</td>\n",
       "      <td>15.70</td>\n",
       "      <td>82.57</td>\n",
       "      <td>477.1</td>\n",
       "      <td>0.12780</td>\n",
       "      <td>0.17000</td>\n",
       "      <td>0.1578</td>\n",
       "      <td>0.08089</td>\n",
       "      <td>0.2087</td>\n",
       "      <td>0.07613</td>\n",
       "      <td>0.3345</td>\n",
       "      <td>0.8902</td>\n",
       "      <td>2.217</td>\n",
       "      <td>27.19</td>\n",
       "      <td>0.007510</td>\n",
       "      <td>0.03345</td>\n",
       "      <td>0.03672</td>\n",
       "      <td>0.01137</td>\n",
       "      <td>0.02165</td>\n",
       "      <td>0.005082</td>\n",
       "      <td>15.47</td>\n",
       "      <td>23.75</td>\n",
       "      <td>103.40</td>\n",
       "      <td>741.6</td>\n",
       "      <td>0.1791</td>\n",
       "      <td>0.5249</td>\n",
       "      <td>0.5355</td>\n",
       "      <td>0.1741</td>\n",
       "      <td>0.3985</td>\n",
       "      <td>0.12440</td>\n",
       "      <td>NaN</td>\n",
       "    </tr>\n",
       "  </tbody>\n",
       "</table>\n",
       "</div>"
      ],
      "text/plain": [
       "         id diagnostico  raio_med  textura_med  perimetro_med  area_med  \\\n",
       "0    842302           M     17.99        10.38         122.80    1001.0   \n",
       "1    842517           M     20.57        17.77         132.90    1326.0   \n",
       "2  84300903           M     19.69        21.25         130.00    1203.0   \n",
       "3  84348301           M     11.42        20.38          77.58     386.1   \n",
       "4  84358402           M     20.29        14.34         135.10    1297.0   \n",
       "5    843786           M     12.45        15.70          82.57     477.1   \n",
       "\n",
       "   suavidade_med  compacidade_med  concavidade_med  pontos concavos_med  \\\n",
       "0        0.11840          0.27760           0.3001              0.14710   \n",
       "1        0.08474          0.07864           0.0869              0.07017   \n",
       "2        0.10960          0.15990           0.1974              0.12790   \n",
       "3        0.14250          0.28390           0.2414              0.10520   \n",
       "4        0.10030          0.13280           0.1980              0.10430   \n",
       "5        0.12780          0.17000           0.1578              0.08089   \n",
       "\n",
       "   simetria_med  dimensao fractal_med  raio_ep  textura_ep  perimetro_ep  \\\n",
       "0        0.2419               0.07871   1.0950      0.9053         8.589   \n",
       "1        0.1812               0.05667   0.5435      0.7339         3.398   \n",
       "2        0.2069               0.05999   0.7456      0.7869         4.585   \n",
       "3        0.2597               0.09744   0.4956      1.1560         3.445   \n",
       "4        0.1809               0.05883   0.7572      0.7813         5.438   \n",
       "5        0.2087               0.07613   0.3345      0.8902         2.217   \n",
       "\n",
       "   area_ep  suavidade_ep  compacidade_ep  concavidade_ep  pontos concavos_ep  \\\n",
       "0   153.40      0.006399         0.04904         0.05373             0.01587   \n",
       "1    74.08      0.005225         0.01308         0.01860             0.01340   \n",
       "2    94.03      0.006150         0.04006         0.03832             0.02058   \n",
       "3    27.23      0.009110         0.07458         0.05661             0.01867   \n",
       "4    94.44      0.011490         0.02461         0.05688             0.01885   \n",
       "5    27.19      0.007510         0.03345         0.03672             0.01137   \n",
       "\n",
       "   simetria_ep  dimensao fractal_ep  raio_pior  textura_pior  perimetro_pior  \\\n",
       "0      0.03003             0.006193      25.38         17.33          184.60   \n",
       "1      0.01389             0.003532      24.99         23.41          158.80   \n",
       "2      0.02250             0.004571      23.57         25.53          152.50   \n",
       "3      0.05963             0.009208      14.91         26.50           98.87   \n",
       "4      0.01756             0.005115      22.54         16.67          152.20   \n",
       "5      0.02165             0.005082      15.47         23.75          103.40   \n",
       "\n",
       "   area_pior  suavidade_pior  compacidade_pior  concavidade_pior  \\\n",
       "0     2019.0          0.1622            0.6656            0.7119   \n",
       "1     1956.0          0.1238            0.1866            0.2416   \n",
       "2     1709.0          0.1444            0.4245            0.4504   \n",
       "3      567.7          0.2098            0.8663            0.6869   \n",
       "4     1575.0          0.1374            0.2050            0.4000   \n",
       "5      741.6          0.1791            0.5249            0.5355   \n",
       "\n",
       "   pontos concavos_pior  simetria_pior  dimensao fractal_pior  Unnamed: 32  \n",
       "0                0.2654         0.4601                0.11890          NaN  \n",
       "1                0.1860         0.2750                0.08902          NaN  \n",
       "2                0.2430         0.3613                0.08758          NaN  \n",
       "3                0.2575         0.6638                0.17300          NaN  \n",
       "4                0.1625         0.2364                0.07678          NaN  \n",
       "5                0.1741         0.3985                0.12440          NaN  "
      ]
     },
     "execution_count": 9,
     "metadata": {},
     "output_type": "execute_result"
    }
   ],
   "source": [
    "df= pd.read_csv('./data/wdbc.data',  index_col= None, na_values='?')\n",
    "df.head(6)"
   ]
  },
  {
   "cell_type": "markdown",
   "metadata": {},
   "source": [
    "# Data Preprocessing"
   ]
  },
  {
   "cell_type": "code",
   "execution_count": 10,
   "metadata": {},
   "outputs": [
    {
     "data": {
      "text/plain": [
       "(569, 33)"
      ]
     },
     "execution_count": 10,
     "metadata": {},
     "output_type": "execute_result"
    }
   ],
   "source": [
    "df.shape"
   ]
  },
  {
   "cell_type": "code",
   "execution_count": 11,
   "metadata": {},
   "outputs": [
    {
     "data": {
      "text/plain": [
       "id                         0\n",
       "diagnostico                0\n",
       "raio_med                   0\n",
       "textura_med                0\n",
       "perimetro_med              0\n",
       "area_med                   0\n",
       "suavidade_med              0\n",
       "compacidade_med            0\n",
       "concavidade_med            0\n",
       "pontos concavos_med        0\n",
       "simetria_med               0\n",
       "dimensao fractal_med       0\n",
       "raio_ep                    0\n",
       "textura_ep                 0\n",
       "perimetro_ep               0\n",
       "area_ep                    0\n",
       "suavidade_ep               0\n",
       "compacidade_ep             0\n",
       "concavidade_ep             0\n",
       "pontos concavos_ep         0\n",
       "simetria_ep                0\n",
       "dimensao fractal_ep        0\n",
       "raio_pior                  0\n",
       "textura_pior               0\n",
       "perimetro_pior             0\n",
       "area_pior                  0\n",
       "suavidade_pior             0\n",
       "compacidade_pior           0\n",
       "concavidade_pior           0\n",
       "pontos concavos_pior       0\n",
       "simetria_pior              0\n",
       "dimensao fractal_pior      0\n",
       "Unnamed: 32              569\n",
       "dtype: int64"
      ]
     },
     "execution_count": 11,
     "metadata": {},
     "output_type": "execute_result"
    }
   ],
   "source": [
    "df.isnull().sum()"
   ]
  },
  {
   "cell_type": "code",
   "execution_count": 12,
   "metadata": {},
   "outputs": [
    {
     "data": {
      "text/plain": [
       "(569, 32)"
      ]
     },
     "execution_count": 12,
     "metadata": {},
     "output_type": "execute_result"
    }
   ],
   "source": [
    "df.drop('Unnamed: 32', axis=1 , inplace=True)\n",
    "df.shape"
   ]
  },
  {
   "cell_type": "code",
   "execution_count": 13,
   "metadata": {},
   "outputs": [
    {
     "data": {
      "text/plain": [
       "(569, 31)"
      ]
     },
     "execution_count": 13,
     "metadata": {},
     "output_type": "execute_result"
    }
   ],
   "source": [
    "df.drop('id', axis=1 , inplace=True)\n",
    "df.shape"
   ]
  },
  {
   "cell_type": "code",
   "execution_count": 16,
   "metadata": {},
   "outputs": [
    {
     "data": {
      "text/plain": [
       "diagnostico\n",
       "B    357\n",
       "M    212\n",
       "Name: count, dtype: int64"
      ]
     },
     "execution_count": 16,
     "metadata": {},
     "output_type": "execute_result"
    }
   ],
   "source": [
    "df[\"diagnostico\"].value_counts()\n"
   ]
  },
  {
   "cell_type": "markdown",
   "metadata": {},
   "source": [
    "# Feature Selection"
   ]
  },
  {
   "cell_type": "code",
   "execution_count": 17,
   "metadata": {},
   "outputs": [
    {
     "data": {
      "text/plain": [
       "diagnostico\n",
       "0    357\n",
       "1    212\n",
       "Name: count, dtype: int64"
      ]
     },
     "execution_count": 17,
     "metadata": {},
     "output_type": "execute_result"
    }
   ],
   "source": [
    "def categorical_to_numeric_diagnostico(x):\n",
    "    if x=='M':\n",
    "        return 1\n",
    "    if x=='B':\n",
    "        return 0\n",
    "\n",
    "df['diagnostico']= df['diagnostico'].apply(categorical_to_numeric_diagnostico)\n",
    "df[\"diagnostico\"].value_counts()"
   ]
  },
  {
   "cell_type": "code",
   "execution_count": 18,
   "metadata": {},
   "outputs": [
    {
     "data": {
      "text/plain": [
       "<Axes: >"
      ]
     },
     "execution_count": 18,
     "metadata": {},
     "output_type": "execute_result"
    },
    {
     "data": {
      "image/png": "[encoded data removed]",
      "text/plain": [
       "<Figure size 1800x1200 with 1 Axes>"
      ]
     },
     "metadata": {},
     "output_type": "display_data"
    }
   ],
   "source": [
    "#Observe correlation to the diagnostico\n",
    "f, ax = plt.subplots(figsize=(18, 12))\n",
    "tst = df.corr()['diagnostico'].copy()\n",
    "tst = tst.drop('diagnostico')\n",
    "tst.sort_values(inplace=True)\n",
    "tst.plot(kind='bar', alpha=0.6)"
   ]
  },
  {
   "cell_type": "code",
   "execution_count": null,
   "metadata": {
    "collapsed": true
   },
   "outputs": [],
   "source": [
    "#The features looks like they are broken into three main categories, value means, standard deivations, and 'worst'. We can check to see if there are any correlations between these subsets of features\n",
    "features_mean = df.columns[1:9]\n",
    "features_se = df.columns[9:19]\n",
    "features_worst = df.columns[19:]"
   ]
  },
  {
   "cell_type": "code",
   "execution_count": null,
   "metadata": {},
   "outputs": [],
   "source": [
    "#Correlation between sets of features\n",
    "corr = df[features_se].corr()\n",
    "g = sns.heatmap(corr, cbar = True, annot=True, annot_kws={'size': 15}, fmt= '.2f', square = True, cmap = 'coolwarm' )\n",
    "g.set_xticklabels(rotation=90, labels = features_mean, size = 15)\n",
    "g.set_yticklabels(rotation=0, labels = features_mean, size = 15)\n",
    "g.set_xticks(np.arange(.5,10.5,1))\n",
    "plt.rcParams[\"figure.figsize\"] = (17,17)"
   ]
  },
  {
   "cell_type": "code",
   "execution_count": null,
   "metadata": {},
   "outputs": [],
   "source": [
    "corr = df[features_se].corr()\n",
    "g = sns.heatmap(corr, cbar = True, annot=True, annot_kws={'size': 15}, fmt= '.2f', square = True, cmap = 'coolwarm' )\n",
    "g.set_xticklabels(rotation=90, labels = features_se, size = 15)\n",
    "g.set_yticklabels(rotation=0, labels = features_se, size = 15)\n",
    "g.set_xticks(np.arange(.5,10.5,1))\n",
    "plt.rcParams[\"figure.figsize\"] = (17,17)"
   ]
  },
  {
   "cell_type": "code",
   "execution_count": null,
   "metadata": {},
   "outputs": [],
   "source": [
    "corr = df[features_worst].corr()\n",
    "g = sns.heatmap(corr, cbar = True, annot=True, annot_kws={'size': 15}, fmt= '.2f', square = True, cmap = 'coolwarm' )\n",
    "g.set_xticklabels(      rotation=90, labels = features_worst, size = 15)\n",
    "g.set_yticklabels(rotation=0, labels = features_worst, size = 15)\n",
    "g.set_xticks(np.arange(.5,10.5,1))\n",
    "plt.rcParams[\"figure.figsize\"] = (17,17)"
   ]
  },
  {
   "cell_type": "code",
   "execution_count": null,
   "metadata": {},
   "outputs": [],
   "source": [
    "#Correlation Table\n",
    "corr = df.corr()\n",
    "corr = (corr)\n",
    "\n",
    "corr"
   ]
  },
  {
   "cell_type": "code",
   "execution_count": null,
   "metadata": {},
   "outputs": [],
   "source": [
    "#Correlation Matrix\n",
    "\n",
    "# Set up the matplotlib figure\n",
    "f, ax = plt.subplots(figsize=(20, 20))\n",
    "plt.title('Pearson Correlation of Mushroom Features')\n",
    "# Draw the heatmap using seaborn\n",
    "sns.heatmap(df.astype(float).corr(),linewidths=0.7,vmax=1.0, square=True, annot=True)"
   ]
  }
 ],
 "metadata": {
  "kernelspec": {
   "display_name": "Python 3",
   "language": "python",
   "name": "python3"
  },
  "language_info": {
   "codemirror_mode": {
    "name": "ipython",
    "version": 3
   },
   "file_extension": ".py",
   "mimetype": "text/x-python",
   "name": "python",
   "nbconvert_exporter": "python",
   "pygments_lexer": "ipython3",
   "version": "3.11.9"
  }
 },
 "nbformat": 4,
 "nbformat_minor": 2
}
