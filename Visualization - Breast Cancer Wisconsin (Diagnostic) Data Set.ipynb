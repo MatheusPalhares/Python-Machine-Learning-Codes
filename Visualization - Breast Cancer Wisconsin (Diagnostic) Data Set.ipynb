{
 "cells": [
  {
   "cell_type": "code",
   "execution_count": null,
   "metadata": {
    "collapsed": true
   },
   "outputs": [],
   "source": [
    "import pandas as pd\n",
    "import numpy as np\n",
    "from matplotlib import pyplot as plt\n",
    "import seaborn as sns; sns.set(style=\"ticks\", color_codes=True)\n",
    "import hypertools as hyp \n",
    "from sklearn.linear_model import LogisticRegression # to apply the Logistic regression\n",
    "from sklearn.model_selection import train_test_split # to split the data into two parts\n",
    "from sklearn.model_selection import GridSearchCV# for tuning parameter\n",
    "from sklearn.ensemble import RandomForestClassifier # for random forest classifier\n",
    "from sklearn.naive_bayes import GaussianNB\n",
    "from sklearn.neighbors import KNeighborsClassifier\n",
    "from sklearn.tree import DecisionTreeClassifier\n",
    "from sklearn import svm # for Support Vector Machine\n",
    "from sklearn import metrics # for the check the error and accuracy of the model\n",
    "\n",
    "%matplotlib inline\n",
    "\n",
    "pd.set_option('display.max_columns', 100)"
   ]
  },
  {
   "cell_type": "code",
   "execution_count": 41,
   "metadata": {},
   "outputs": [
    {
     "data": {
      "text/html": [
       "<div>\n",
       "<style scoped>\n",
       "    .dataframe tbody tr th:only-of-type {\n",
       "        vertical-align: middle;\n",
       "    }\n",
       "\n",
       "    .dataframe tbody tr th {\n",
       "        vertical-align: top;\n",
       "    }\n",
       "\n",
       "    .dataframe thead th {\n",
       "        text-align: right;\n",
       "    }\n",
       "</style>\n",
       "<table border=\"1\" class=\"dataframe\">\n",
       "  <thead>\n",
       "    <tr style=\"text-align: right;\">\n",
       "      <th></th>\n",
       "      <th>Recorrencia</th>\n",
       "      <th>Range Idade</th>\n",
       "      <th>coisa</th>\n",
       "      <th>Range Cuzin</th>\n",
       "      <th>Range balls</th>\n",
       "      <th>tem ou num tem</th>\n",
       "      <th>cocozin</th>\n",
       "      <th>\"esquerda ou direita\"</th>\n",
       "      <th>\"baixo_cima\"</th>\n",
       "      <th>\"temounumtem2\"</th>\n",
       "      <th>Unnamed: 10</th>\n",
       "    </tr>\n",
       "  </thead>\n",
       "  <tbody>\n",
       "    <tr>\n",
       "      <th>0</th>\n",
       "      <td>no-recurrence-events</td>\n",
       "      <td>30-39</td>\n",
       "      <td>premeno</td>\n",
       "      <td>30-34</td>\n",
       "      <td>0-2</td>\n",
       "      <td>no</td>\n",
       "      <td>3</td>\n",
       "      <td>left</td>\n",
       "      <td>left_low</td>\n",
       "      <td>no</td>\n",
       "      <td>NaN</td>\n",
       "    </tr>\n",
       "    <tr>\n",
       "      <th>1</th>\n",
       "      <td>no-recurrence-events</td>\n",
       "      <td>40-49</td>\n",
       "      <td>premeno</td>\n",
       "      <td>20-24</td>\n",
       "      <td>0-2</td>\n",
       "      <td>no</td>\n",
       "      <td>2</td>\n",
       "      <td>right</td>\n",
       "      <td>right_up</td>\n",
       "      <td>no</td>\n",
       "      <td>NaN</td>\n",
       "    </tr>\n",
       "    <tr>\n",
       "      <th>2</th>\n",
       "      <td>no-recurrence-events</td>\n",
       "      <td>40-49</td>\n",
       "      <td>premeno</td>\n",
       "      <td>20-24</td>\n",
       "      <td>0-2</td>\n",
       "      <td>no</td>\n",
       "      <td>2</td>\n",
       "      <td>left</td>\n",
       "      <td>left_low</td>\n",
       "      <td>no</td>\n",
       "      <td>NaN</td>\n",
       "    </tr>\n",
       "    <tr>\n",
       "      <th>3</th>\n",
       "      <td>no-recurrence-events</td>\n",
       "      <td>60-69</td>\n",
       "      <td>ge40</td>\n",
       "      <td>15-19</td>\n",
       "      <td>0-2</td>\n",
       "      <td>no</td>\n",
       "      <td>2</td>\n",
       "      <td>right</td>\n",
       "      <td>left_up</td>\n",
       "      <td>no</td>\n",
       "      <td>NaN</td>\n",
       "    </tr>\n",
       "    <tr>\n",
       "      <th>4</th>\n",
       "      <td>no-recurrence-events</td>\n",
       "      <td>40-49</td>\n",
       "      <td>premeno</td>\n",
       "      <td>0-4</td>\n",
       "      <td>0-2</td>\n",
       "      <td>no</td>\n",
       "      <td>2</td>\n",
       "      <td>right</td>\n",
       "      <td>right_low</td>\n",
       "      <td>no</td>\n",
       "      <td>NaN</td>\n",
       "    </tr>\n",
       "    <tr>\n",
       "      <th>...</th>\n",
       "      <td>...</td>\n",
       "      <td>...</td>\n",
       "      <td>...</td>\n",
       "      <td>...</td>\n",
       "      <td>...</td>\n",
       "      <td>...</td>\n",
       "      <td>...</td>\n",
       "      <td>...</td>\n",
       "      <td>...</td>\n",
       "      <td>...</td>\n",
       "      <td>...</td>\n",
       "    </tr>\n",
       "    <tr>\n",
       "      <th>281</th>\n",
       "      <td>recurrence-events</td>\n",
       "      <td>30-39</td>\n",
       "      <td>premeno</td>\n",
       "      <td>30-34</td>\n",
       "      <td>0-2</td>\n",
       "      <td>no</td>\n",
       "      <td>2</td>\n",
       "      <td>left</td>\n",
       "      <td>left_up</td>\n",
       "      <td>no</td>\n",
       "      <td>NaN</td>\n",
       "    </tr>\n",
       "    <tr>\n",
       "      <th>282</th>\n",
       "      <td>recurrence-events</td>\n",
       "      <td>30-39</td>\n",
       "      <td>premeno</td>\n",
       "      <td>20-24</td>\n",
       "      <td>0-2</td>\n",
       "      <td>no</td>\n",
       "      <td>3</td>\n",
       "      <td>left</td>\n",
       "      <td>left_up</td>\n",
       "      <td>yes</td>\n",
       "      <td>NaN</td>\n",
       "    </tr>\n",
       "    <tr>\n",
       "      <th>283</th>\n",
       "      <td>recurrence-events</td>\n",
       "      <td>60-69</td>\n",
       "      <td>ge40</td>\n",
       "      <td>20-24</td>\n",
       "      <td>0-2</td>\n",
       "      <td>no</td>\n",
       "      <td>1</td>\n",
       "      <td>right</td>\n",
       "      <td>left_up</td>\n",
       "      <td>no</td>\n",
       "      <td>NaN</td>\n",
       "    </tr>\n",
       "    <tr>\n",
       "      <th>284</th>\n",
       "      <td>recurrence-events</td>\n",
       "      <td>40-49</td>\n",
       "      <td>ge40</td>\n",
       "      <td>30-34</td>\n",
       "      <td>3-5</td>\n",
       "      <td>no</td>\n",
       "      <td>3</td>\n",
       "      <td>left</td>\n",
       "      <td>left_low</td>\n",
       "      <td>no</td>\n",
       "      <td>NaN</td>\n",
       "    </tr>\n",
       "    <tr>\n",
       "      <th>285</th>\n",
       "      <td>recurrence-events</td>\n",
       "      <td>50-59</td>\n",
       "      <td>ge40</td>\n",
       "      <td>30-34</td>\n",
       "      <td>3-5</td>\n",
       "      <td>no</td>\n",
       "      <td>3</td>\n",
       "      <td>left</td>\n",
       "      <td>left_low</td>\n",
       "      <td>no</td>\n",
       "      <td>NaN</td>\n",
       "    </tr>\n",
       "  </tbody>\n",
       "</table>\n",
       "<p>286 rows × 11 columns</p>\n",
       "</div>"
      ],
      "text/plain": [
       "              Recorrencia Range Idade    coisa Range Cuzin Range balls  \\\n",
       "0    no-recurrence-events       30-39  premeno       30-34         0-2   \n",
       "1    no-recurrence-events       40-49  premeno       20-24         0-2   \n",
       "2    no-recurrence-events       40-49  premeno       20-24         0-2   \n",
       "3    no-recurrence-events       60-69     ge40       15-19         0-2   \n",
       "4    no-recurrence-events       40-49  premeno         0-4         0-2   \n",
       "..                    ...         ...      ...         ...         ...   \n",
       "281     recurrence-events       30-39  premeno       30-34         0-2   \n",
       "282     recurrence-events       30-39  premeno       20-24         0-2   \n",
       "283     recurrence-events       60-69     ge40       20-24         0-2   \n",
       "284     recurrence-events       40-49     ge40       30-34         3-5   \n",
       "285     recurrence-events       50-59     ge40       30-34         3-5   \n",
       "\n",
       "    tem ou num tem  cocozin  \"esquerda ou direita\"  \"baixo_cima\"  \\\n",
       "0               no        3                   left      left_low   \n",
       "1               no        2                  right      right_up   \n",
       "2               no        2                   left      left_low   \n",
       "3               no        2                  right       left_up   \n",
       "4               no        2                  right     right_low   \n",
       "..             ...      ...                    ...           ...   \n",
       "281             no        2                   left       left_up   \n",
       "282             no        3                   left       left_up   \n",
       "283             no        1                  right       left_up   \n",
       "284             no        3                   left      left_low   \n",
       "285             no        3                   left      left_low   \n",
       "\n",
       "     \"temounumtem2\"  Unnamed: 10  \n",
       "0                no          NaN  \n",
       "1                no          NaN  \n",
       "2                no          NaN  \n",
       "3                no          NaN  \n",
       "4                no          NaN  \n",
       "..              ...          ...  \n",
       "281              no          NaN  \n",
       "282             yes          NaN  \n",
       "283              no          NaN  \n",
       "284              no          NaN  \n",
       "285              no          NaN  \n",
       "\n",
       "[286 rows x 11 columns]"
      ]
     },
     "execution_count": 41,
     "metadata": {},
     "output_type": "execute_result"
    }
   ],
   "source": [
    "#df= pd.read_csv('./data/Breast Cancer Wisconsin.csv',  index_col= None, na_values='?')\n",
    "df = pd.read_csv('./data/breast-cancer.data', index_col=None, na_values='?')\n",
    "df.head(df.shape[0])"
   ]
  },
  {
   "cell_type": "markdown",
   "metadata": {},
   "source": [
    "# Data Preprocessing"
   ]
  },
  {
   "cell_type": "code",
   "execution_count": null,
   "metadata": {},
   "outputs": [],
   "source": [
    "df.shape"
   ]
  },
  {
   "cell_type": "code",
   "execution_count": 42,
   "metadata": {},
   "outputs": [
    {
     "name": "stdout",
     "output_type": "stream",
     "text": [
      "Recorrencia                 0\n",
      "Range Idade                 0\n",
      "coisa                       0\n",
      "Range Cuzin                 0\n",
      "Range balls                 0\n",
      "tem ou num tem              8\n",
      "cocozin                     0\n",
      " \"esquerda ou direita\"      0\n",
      " \"baixo_cima\"               1\n",
      " \"temounumtem2\"             0\n",
      "Unnamed: 10               286\n",
      "dtype: int64\n",
      "Missing values found\n"
     ]
    }
   ],
   "source": [
    "print(df.isnull().sum())\n",
    "if(df.isnull().sum().sum() == df.shape[0]):\n",
    "    print(\"No missing values\")\n",
    "else:\n",
    "    print(\"Missing values found\")"
   ]
  },
  {
   "cell_type": "code",
   "execution_count": null,
   "metadata": {},
   "outputs": [],
   "source": [
    "df.drop('Unnamed: 32', axis=1 , inplace=True)\n",
    "df.shape"
   ]
  },
  {
   "cell_type": "code",
   "execution_count": null,
   "metadata": {},
   "outputs": [],
   "source": [
    "df.drop('id', axis=1 , inplace=True)\n",
    "df.shape"
   ]
  },
  {
   "cell_type": "code",
   "execution_count": null,
   "metadata": {},
   "outputs": [],
   "source": [
    "df[\"diagnosis\"].value_counts()"
   ]
  },
  {
   "cell_type": "markdown",
   "metadata": {},
   "source": [
    "# Data Visualization"
   ]
  },
  {
   "cell_type": "markdown",
   "metadata": {},
   "source": [
    "**Syntax Pair Plot\n",
    "sns.pairplot(data, hue=None, hue_order=None, palette=None, vars=None, x_vars=None, y_vars=None, kind='scatter', diag_kind='hist', markers=None, size=2.5, aspect=1, dropna=True, plot_kws=None, diag_kws=None, grid_kws=None)\n",
    "\n",
    "**Syntax Pair Grid\n",
    "sns.pairplot(data, hue=None, hue_order=None, palette=None, hue_kws=None, vars=None, x_vars=None, y_vars=None, diag_sharey=True, size=2.5, aspect=1, despine=True, dropna=True)"
   ]
  },
  {
   "cell_type": "code",
   "execution_count": null,
   "metadata": {},
   "outputs": [],
   "source": [
    "radius = df[['radius_mean','radius_se','radius_worst','diagnosis']]\n",
    "sns.pairplot(radius, hue='diagnosis',palette=\"husl\", markers=[\"o\", \"s\"],size=4)"
   ]
  },
  {
   "cell_type": "code",
   "execution_count": null,
   "metadata": {},
   "outputs": [],
   "source": [
    "sns.pairplot(radius,kind=\"reg\",size=4)"
   ]
  },
  {
   "cell_type": "code",
   "execution_count": null,
   "metadata": {},
   "outputs": [],
   "source": [
    "g = sns.PairGrid(radius,hue='diagnosis', palette=\"Set1\",size=4)\n",
    "g = g.map_diag(plt.hist)\n",
    "g = g.map_offdiag(plt.scatter, s = 3)"
   ]
  },
  {
   "cell_type": "code",
   "execution_count": null,
   "metadata": {},
   "outputs": [],
   "source": [
    "g = sns.PairGrid(radius, hue=\"diagnosis\", palette=\"Set2\",size=4,hue_kws={\"marker\": [\"o\", \"s\"]})\n",
    "g = g.map(plt.scatter, linewidths=1, edgecolor=\"w\", s=40)\n",
    "g = g.add_legend()"
   ]
  },
  {
   "cell_type": "code",
   "execution_count": null,
   "metadata": {},
   "outputs": [],
   "source": [
    "texture = df[['texture_mean','texture_se','texture_worst','diagnosis']]\n",
    "sns.pairplot(texture, hue='diagnosis', palette=\"Blues_d\",size=4, kind=\"reg\")"
   ]
  },
  {
   "cell_type": "code",
   "execution_count": null,
   "metadata": {},
   "outputs": [],
   "source": [
    "perimeter = df[['perimeter_mean','perimeter_se','perimeter_worst','diagnosis']]\n",
    "sns.pairplot(perimeter, hue='diagnosis', size = 4, kind=\"reg\")"
   ]
  },
  {
   "cell_type": "code",
   "execution_count": null,
   "metadata": {},
   "outputs": [],
   "source": [
    "area = df[['area_mean','area_se','area_worst','diagnosis']]\n",
    "sns.pairplot(area, hue='diagnosis', size =4)"
   ]
  },
  {
   "cell_type": "code",
   "execution_count": null,
   "metadata": {},
   "outputs": [],
   "source": [
    "smoothness = df[['smoothness_mean','smoothness_se','smoothness_worst','diagnosis']]\n",
    "sns.pairplot(smoothness, hue='diagnosis')"
   ]
  },
  {
   "cell_type": "code",
   "execution_count": null,
   "metadata": {},
   "outputs": [],
   "source": [
    "compactness = df[['compactness_mean','compactness_se','compactness_worst','diagnosis']]\n",
    "sns.pairplot(compactness, hue='diagnosis')"
   ]
  },
  {
   "cell_type": "code",
   "execution_count": null,
   "metadata": {},
   "outputs": [],
   "source": [
    "concavity = df[['concavity_mean','concavity_se','concavity_worst','diagnosis']]\n",
    "sns.pairplot(concavity, hue='diagnosis')"
   ]
  },
  {
   "cell_type": "code",
   "execution_count": null,
   "metadata": {},
   "outputs": [],
   "source": [
    "concave_points = df[['concave points_mean','concave points_se','concave points_worst','diagnosis']]\n",
    "sns.pairplot(concave_points, hue='diagnosis')"
   ]
  },
  {
   "cell_type": "code",
   "execution_count": null,
   "metadata": {},
   "outputs": [],
   "source": [
    "symmetry = df[['symmetry_mean','symmetry_se','symmetry_worst','diagnosis']]\n",
    "sns.pairplot(symmetry, hue='diagnosis')"
   ]
  },
  {
   "cell_type": "code",
   "execution_count": null,
   "metadata": {},
   "outputs": [],
   "source": [
    "fractal_dimension = df[['fractal_dimension_mean','fractal_dimension_se','fractal_dimension_worst','diagnosis']]\n",
    "sns.pairplot(fractal_dimension, hue='diagnosis')"
   ]
  },
  {
   "cell_type": "code",
   "execution_count": null,
   "metadata": {
    "scrolled": true
   },
   "outputs": [],
   "source": [
    "# Move the reponse variable \"diagnosis\" to the end of the dataframe\n",
    "end = df['diagnosis']\n",
    "df.drop(labels=['diagnosis'], axis=1,inplace = True)\n",
    "df.insert(30, 'diagnosis', end)\n",
    "df.head()\n",
    "\n",
    "def categorical_to_numeric_diagnosis(x):\n",
    "    if x=='M':\n",
    "        return 1\n",
    "    if x=='B':\n",
    "        return 0\n",
    "\n",
    "df['diagnosis']= df['diagnosis'].apply(categorical_to_numeric_diagnosis)\n",
    "df[\"diagnosis\"].value_counts()\n",
    "\n",
    "\n",
    "colors = np.array('b g r c m y k'.split()) #Different colors for plotting\n",
    "\n",
    "fig,axes = plt.subplots(nrows =15,ncols=2, sharey=True,figsize = (15,50))\n",
    "plt.tight_layout()\n",
    "row = 0\n",
    "iteration = 0\n",
    "for j in range(0,len(df.columns[:-1])):\n",
    "    iteration+=1\n",
    "    if(j%2==0):\n",
    "        k = 0\n",
    "    else:\n",
    "        k = 1\n",
    "    sns.distplot(df[df.columns[j]],kde=False,hist_kws=dict(edgecolor=\"w\", linewidth=2),color = np.random.choice(colors) ,ax=axes[row][k])\n",
    "    if(iteration%2==0):\n",
    "        row+=1\n",
    "        plt.ylim(0,200)"
   ]
  },
  {
   "cell_type": "code",
   "execution_count": null,
   "metadata": {},
   "outputs": [],
   "source": [
    "#The features looks like they are broken into three main categories, value means, standard deivations, and 'worst'. We can check to see if there are any correlations between these subsets of features\n",
    "features_mean = df.columns[1:9]\n",
    "features_se = df.columns[9:19]\n",
    "features_worst = df.columns[1]"
   ]
  },
  {
   "cell_type": "code",
   "execution_count": null,
   "metadata": {
    "collapsed": true
   },
   "outputs": [],
   "source": [
    "# Separate out malignant and benign data for graphing\n",
    "malignant = df[df['diagnosis'] ==1]\n",
    "benign = df[df['diagnosis'] ==0]"
   ]
  },
  {
   "cell_type": "code",
   "execution_count": null,
   "metadata": {},
   "outputs": [],
   "source": [
    "\n",
    "# Column names to observe in following graphs - mean values only\n",
    "observe = list(df.columns[1:11]) + ['area_worst'] + ['perimeter_worst']\n",
    "observables = df.loc[:,observe]"
   ]
  },
  {
   "cell_type": "code",
   "execution_count": null,
   "metadata": {},
   "outputs": [],
   "source": [
    "plt.rcParams.update({'font.size': 8})\n",
    "plot, graphs = plt.subplots(nrows=6, ncols=2, figsize=(12,14))\n",
    "graphs = graphs.flatten()\n",
    "for idx, graph in enumerate(graphs):\n",
    "    graph.figure\n",
    "    \n",
    "    binwidth= (max(df[observe[idx]]) - min(df[observe[idx]]))/50\n",
    "    bins = np.arange(min(df[observe[idx]]), max(df[observe[idx]]) + binwidth, binwidth)\n",
    "    graph.hist([malignant[observe[idx]],benign[observe[idx]]], bins=bins, alpha=0.6, normed=True, label=['Malignant','Benign'], color=['red','blue'])\n",
    "    graph.legend(loc='upper right')\n",
    "    graph.set_title(observe[idx])\n",
    "plt.tight_layout()"
   ]
  },
  {
   "cell_type": "code",
   "execution_count": null,
   "metadata": {},
   "outputs": [],
   "source": [
    "color_wheel = {0: \"blue\", 1: \"red\"}\n",
    "colors = df[\"diagnosis\"].map(lambda x: color_wheel.get(x))\n",
    "pd.plotting.scatter_matrix(observables, c=colors, alpha = 0.5, figsize = (17, 17), diagonal = 'kde');"
   ]
  },
  {
   "cell_type": "code",
   "execution_count": null,
   "metadata": {
    "collapsed": true
   },
   "outputs": [],
   "source": []
  },
  {
   "cell_type": "code",
   "execution_count": null,
   "metadata": {
    "collapsed": true
   },
   "outputs": [],
   "source": []
  },
  {
   "cell_type": "code",
   "execution_count": null,
   "metadata": {
    "collapsed": true
   },
   "outputs": [],
   "source": []
  },
  {
   "cell_type": "code",
   "execution_count": null,
   "metadata": {
    "collapsed": true
   },
   "outputs": [],
   "source": []
  }
 ],
 "metadata": {
  "kernelspec": {
   "display_name": "Python 3",
   "language": "python",
   "name": "python3"
  },
  "language_info": {
   "codemirror_mode": {
    "name": "ipython",
    "version": 3
   },
   "file_extension": ".py",
   "mimetype": "text/x-python",
   "name": "python",
   "nbconvert_exporter": "python",
   "pygments_lexer": "ipython3",
   "version": "3.12.2"
  }
 },
 "nbformat": 4,
 "nbformat_minor": 2
}
