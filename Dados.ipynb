{
 "cells": [
  {
   "cell_type": "markdown",
   "metadata": {},
   "source": [
    "# Imports"
   ]
  },
  {
   "cell_type": "code",
   "execution_count": null,
   "metadata": {},
   "outputs": [],
   "source": [
    "#Imports\n",
    "import pandas as pd\n",
    "import numpy as np\n",
    "import matplotlib.pyplot as plt\n",
    "pd.set_option(\"display.max_rows\", None)"
   ]
  },
  {
   "cell_type": "markdown",
   "metadata": {},
   "source": [
    "# Amostragem de dados"
   ]
  },
  {
   "cell_type": "code",
   "execution_count": null,
   "metadata": {},
   "outputs": [],
   "source": [
    "data = pd.read_csv('data\\wdbc.data') #Read the data from the file\n",
    "data.head(6) #Display the first 6 rows of the data"
   ]
  },
  {
   "cell_type": "code",
   "execution_count": null,
   "metadata": {},
   "outputs": [],
   "source": [
    "data.shape #Quantidade de instancias e features do dataset"
   ]
  },
  {
   "cell_type": "code",
   "execution_count": null,
   "metadata": {},
   "outputs": [],
   "source": [
    "print(f'Quantidade de casos malignos ou benígnos: \\n{data[\"diagnostico\"].value_counts()}\\n\\n') #Atributo alvo do dataset dividido em benigno e maligno\n",
    "print(f'Porcentagem de casos malignos ou benígnos: \\n{data[\"diagnostico\"].value_counts(normalize=True) * 100}') #Porcentagem de casos benignos e malignos"
   ]
  },
  {
   "cell_type": "code",
   "execution_count": null,
   "metadata": {},
   "outputs": [],
   "source": [
    "quantitative_classes = data.select_dtypes(include=['float64', 'int64'])\n",
    "#quantitative_classes.count()\n",
    "print(len(quantitative_classes.columns) - 1) #Quantidade de features quantitativas do dataset"
   ]
  },
  {
   "cell_type": "code",
   "execution_count": null,
   "metadata": {},
   "outputs": [],
   "source": [
    "qualitative_classes = data.select_dtypes(include=['object', 'string'])\n",
    "#qualitative_classes.count()\n",
    "print(len(qualitative_classes.columns) + 1) #Quantidade de features qualitativas do dataset"
   ]
  },
  {
   "cell_type": "markdown",
   "metadata": {},
   "source": [
    "# Exploração dos dados por medidas de localidade"
   ]
  },
  {
   "cell_type": "code",
   "execution_count": null,
   "metadata": {},
   "outputs": [],
   "source": [
    "data2 = data.drop(columns=['id', 'diagnostico']) #Remove as colunas id e diagnostico\n",
    "data_mean = data2.mean()\n",
    "print(f\"Média dos dados: \\n\\n{data_mean}\") #Média de cada feature do dataset"
   ]
  },
  {
   "cell_type": "code",
   "execution_count": null,
   "metadata": {},
   "outputs": [],
   "source": [
    "data_mediana = data2.median() #Mediana de cada feature do dataset\n",
    "print(f\"Mediana dos dados: \\n\\n{data_mediana}\")"
   ]
  },
  {
   "cell_type": "code",
   "execution_count": null,
   "metadata": {},
   "outputs": [],
   "source": [
    "data_moda = data.drop(columns='id').mode() #Moda de cada feature do dataset\n",
    "print(f\"Moda dos dados: \\n\\n{data_moda}\")"
   ]
  },
  {
   "cell_type": "markdown",
   "metadata": {},
   "source": [
    "# Exploração dos dados por medidas de espalhamento"
   ]
  },
  {
   "cell_type": "code",
   "execution_count": null,
   "metadata": {},
   "outputs": [],
   "source": [
    "data_variancia = data2.var() #Variância de cada feature do dataset\n",
    "print(f\"Variancia dos dados: \\n\\n{data_variancia}\")"
   ]
  },
  {
   "cell_type": "code",
   "execution_count": null,
   "metadata": {},
   "outputs": [],
   "source": [
    "data_quartil = data2.quantile([0.25, 0.5, 0.75]) #Quartis de cada feature do dataset\n",
    "print(f\"Quartis dos dados: \\n\\n{data_quartil}\")"
   ]
  },
  {
   "cell_type": "code",
   "execution_count": null,
   "metadata": {},
   "outputs": [],
   "source": [
    "data_desvio_padrao = data2.std() #Desvio padrão de cada feature do dataset\n",
    "print(f\"Desvio padrão dos dados: \\n\\n{data_desvio_padrao}\")"
   ]
  },
  {
   "cell_type": "code",
   "execution_count": null,
   "metadata": {},
   "outputs": [],
   "source": [
    "data_amp = data2.max() - data2.min() #Amplitude de cada feature do dataset\n",
    "print(f\"Amplitude dos dados: \\n\\n{data_amp}\")"
   ]
  },
  {
   "cell_type": "markdown",
   "metadata": {},
   "source": [
    "# Exploração dos dados por medidas de distribuição"
   ]
  },
  {
   "cell_type": "code",
   "execution_count": null,
   "metadata": {},
   "outputs": [],
   "source": [
    "data_momento = data2.kurtosis() #Momento de cada feature do dataset\n",
    "print(f\"Momento dos dados: \\n\\n{data_momento}\")"
   ]
  },
  {
   "cell_type": "code",
   "execution_count": null,
   "metadata": {},
   "outputs": [],
   "source": [
    "data_obliquidade = data2.skew() #Obliquidade de cada feature do dataset\n",
    "print(f\"Obliquidade dos dados: \\n\\n{data_obliquidade}\")"
   ]
  },
  {
   "cell_type": "markdown",
   "metadata": {},
   "source": [
    "# Seleção de caso teste para treinamento"
   ]
  },
  {
   "cell_type": "code",
   "execution_count": null,
   "metadata": {},
   "outputs": [],
   "source": [
    "data_teste = data.drop(index=range(20, len(data)))\n",
    "data_teste.head(20)\n",
    "#20 primeiras instancias do dataset"
   ]
  },
  {
   "cell_type": "markdown",
   "metadata": {},
   "source": [
    "# Reescala do atributo alvo de Categórico para Numérico"
   ]
  },
  {
   "cell_type": "code",
   "execution_count": null,
   "metadata": {},
   "outputs": [],
   "source": [
    "def categorico_to_numerico_diagnostico(x):\n",
    "    if x=='M':\n",
    "        return 1\n",
    "    if x=='B':\n",
    "        return 0\n",
    "\n",
    "data['diagnostico']= data['diagnostico'].apply(categorico_to_numerico_diagnostico)\n",
    "data[\"diagnostico\"].value_counts()"
   ]
  },
  {
   "cell_type": "markdown",
   "metadata": {},
   "source": [
    "# Observando a correlação das features com o atributo alvo"
   ]
  },
  {
   "cell_type": "code",
   "execution_count": null,
   "metadata": {},
   "outputs": [],
   "source": [
    "#Correlação entre as features e o diagnóstico usando o método de Pearson\n",
    "f, ax = plt.subplots(figsize=(18, 12))\n",
    "tst = data.drop(columns='id').corr('pearson')['diagnostico'].copy()\n",
    "tst = tst.drop('diagnostico')\n",
    "tst.sort_values(inplace=True)\n",
    "tst.plot(kind=\"bar\", alpha=1, title=\"Correlação entre as features e o diagnóstico usando o método de Pearson (±1 = correlação total)\")"
   ]
  },
  {
   "cell_type": "markdown",
   "metadata": {},
   "source": [
    "# Identificação dos outliers presentes nos dados"
   ]
  },
  {
   "cell_type": "code",
   "execution_count": null,
   "metadata": {},
   "outputs": [],
   "source": [
    "fig, ax = plt.subplots(1, 10, figsize=(20, 10))\n",
    "data.boxplot(column='raio_med', ax=ax[0], capprops=dict(color='red', linewidth=3, markersize=10))\n",
    "data.boxplot(column='textura_med', ax=ax[1], capprops=dict(color='red', linewidth=3, markersize=10))\n",
    "data.boxplot(column='perimetro_med', ax=ax[2], capprops=dict(color='red', linewidth=3, markersize=10))\n",
    "data.boxplot(column='area_med', ax=ax[3], capprops=dict(color='red', linewidth=3, markersize=10))\n",
    "data.boxplot(column='suavidade_med', ax=ax[4], capprops=dict(color='red', linewidth=3, markersize=10))\n",
    "data.boxplot(column='compacidade_med', ax=ax[5], capprops=dict(color='red', linewidth=3, markersize=10))\n",
    "data.boxplot(column='concavidade_med', ax=ax[6], capprops=dict(color='red', linewidth=3, markersize=10))\n",
    "data.boxplot(column='pontos concavos_med', ax=ax[7], capprops=dict(color='red', linewidth=3, markersize=10))\n",
    "data.boxplot(column='simetria_med', ax=ax[8], capprops=dict(color='red', linewidth=3, markersize=10))\n",
    "data.boxplot(column='dimensao fractal_med', ax=ax[9], capprops=dict(color='red', linewidth=3, markersize=10))\n",
    "plt.subplots_adjust(wspace=0.5)\n",
    "plt.show()"
   ]
  },
  {
   "cell_type": "code",
   "execution_count": null,
   "metadata": {},
   "outputs": [],
   "source": [
    "fig, ax = plt.subplots(1, 10, figsize=(20, 10))\n",
    "data.boxplot(column='raio_ep', ax=ax[0], capprops=dict(color='red', linewidth=3, markersize=10))\n",
    "data.boxplot(column='textura_ep', ax=ax[1], capprops=dict(color='red', linewidth=3, markersize=10))\n",
    "data.boxplot(column='perimetro_ep', ax=ax[2], capprops=dict(color='red', linewidth=3, markersize=10))\n",
    "data.boxplot(column='area_ep', ax=ax[3], capprops=dict(color='red', linewidth=3, markersize=10))\n",
    "data.boxplot(column='suavidade_ep', ax=ax[4], capprops=dict(color='red', linewidth=3, markersize=10))\n",
    "data.boxplot(column='compacidade_ep', ax=ax[5], capprops=dict(color='red', linewidth=3, markersize=10))\n",
    "data.boxplot(column='concavidade_ep', ax=ax[6], capprops=dict(color='red', linewidth=3, markersize=10))\n",
    "data.boxplot(column='pontos concavos_ep', ax=ax[7], capprops=dict(color='red', linewidth=3, markersize=10))\n",
    "data.boxplot(column='simetria_ep', ax=ax[8], capprops=dict(color='red', linewidth=3, markersize=10))\n",
    "data.boxplot(column='dimensao fractal_ep', ax=ax[9], capprops=dict(color='red', linewidth=3, markersize=10))\n",
    "plt.subplots_adjust(wspace=0.5)\n",
    "plt.show()"
   ]
  },
  {
   "cell_type": "code",
   "execution_count": null,
   "metadata": {},
   "outputs": [],
   "source": [
    "fig, ax = plt.subplots(1, 10, figsize=(20, 10))\n",
    "data.boxplot(column='raio_pior', ax=ax[0], capprops=dict(color='red', linewidth=3, markersize=10))\n",
    "data.boxplot(column='textura_pior', ax=ax[1], capprops=dict(color='red', linewidth=3, markersize=10))\n",
    "data.boxplot(column='perimetro_pior', ax=ax[2], capprops=dict(color='red', linewidth=3, markersize=10))\n",
    "data.boxplot(column='area_pior', ax=ax[3], capprops=dict(color='red', linewidth=3, markersize=10))\n",
    "data.boxplot(column='suavidade_pior', ax=ax[4], capprops=dict(color='red', linewidth=3, markersize=10))\n",
    "data.boxplot(column='compacidade_pior', ax=ax[5], capprops=dict(color='red', linewidth=3, markersize=10))\n",
    "data.boxplot(column='concavidade_pior', ax=ax[6], capprops=dict(color='red', linewidth=3, markersize=10))\n",
    "data.boxplot(column='pontos concavos_pior', ax=ax[7], capprops=dict(color='red', linewidth=3, markersize=10))\n",
    "data.boxplot(column='simetria_pior', ax=ax[8], capprops=dict(color='red', linewidth=3, markersize=10))\n",
    "data.boxplot(column='dimensao fractal_pior', ax=ax[9], capprops=dict(color='red', linewidth=3, markersize=10))\n",
    "plt.subplots_adjust(wspace=0.5)\n",
    "plt.show()"
   ]
  },
  {
   "cell_type": "markdown",
   "metadata": {},
   "source": [
    "# Definição das funções de detecção e substituição de outliers e reset do database"
   ]
  },
  {
   "cell_type": "code",
   "execution_count": null,
   "metadata": {},
   "outputs": [],
   "source": [
    "#data_func1_outliers = data_func1[(data_func1['raio_med'] >= limite_inferior) & (data_func1['raio_med'] <= limite_superior)]\n",
    "data = pd.read_csv('data\\wdbc.data')\n",
    "def identifica_outliers(data_func1, i, lower_limit, upper_limit):\n",
    "    Q1 = data_func1[data_func1.columns[i]].quantile(lower_limit)\n",
    "    Q3 = data_func1[data_func1.columns[i]].quantile(upper_limit)\n",
    "    IQR = Q3 - Q1\n",
    "    lower_bound = Q1 - 1.5 * IQR\n",
    "    upper_bound = Q3 + 1.5 * IQR\n",
    "    data_func1_aux = data_func1[(data_func1[data_func1.columns[i]] >= lower_bound) & (data_func1[data_func1.columns[i]] <= upper_bound)]\n",
    "    print(f\"Quantidade de outliers identificados na coluna {data_func1.columns[i]}: {len(data_func1)-len(data_func1_aux)}\\n\")\n",
    "    outliers_raio_med = data_func1[~data_func1[data_func1.columns[i]].isin(data_func1_aux[data_func1.columns[i]])][data_func1.columns[i]]\n",
    "    print(outliers_raio_med)\n",
    "def replace_outliers_with_mean(data_func, i, lower_limit, upper_limit):\n",
    "    Q1 = data_func[data_func.columns[i]].quantile(lower_limit)\n",
    "    Q3 = data_func[data_func.columns[i]].quantile(upper_limit)\n",
    "    IQR = Q3 - Q1\n",
    "    lower_bound = Q1 - 1.5 * IQR\n",
    "    upper_bound = Q3 + 1.5 * IQR\n",
    "    mean_value = data_func[data_func.columns[i]].mean()\n",
    "    data_func[data_func.columns[i]] = np.where((data_func[data_func.columns[i]] < lower_bound) | (data_func[data_func.columns[i]] > upper_bound), mean_value, data_func[data_func.columns[i]])\n",
    "    print(f'Tabela com outliers substituídos pela média:\\n\\n{data_func[data_func.columns[i]]}')"
   ]
  },
  {
   "cell_type": "markdown",
   "metadata": {},
   "source": [
    "# Dados médios"
   ]
  },
  {
   "cell_type": "code",
   "execution_count": null,
   "metadata": {},
   "outputs": [],
   "source": [
    "identifica_outliers(data, 2, 0.25, 0.75)\n",
    "print(\"\\n\\n\")\n",
    "replace_outliers_with_mean(data, 2, 0.25, 0.75)"
   ]
  },
  {
   "cell_type": "code",
   "execution_count": null,
   "metadata": {},
   "outputs": [],
   "source": [
    "identifica_outliers(data, 3, 0.25, 0.75)\n",
    "print(\"\\n\\n\")\n",
    "replace_outliers_with_mean(data, 3, 0.25, 0.75)"
   ]
  },
  {
   "cell_type": "code",
   "execution_count": null,
   "metadata": {},
   "outputs": [],
   "source": [
    "identifica_outliers(data, 4, 0.25, 0.75)\n",
    "print(\"\\n\\n\")\n",
    "replace_outliers_with_mean(data, 4, 0.25, 0.75)"
   ]
  },
  {
   "cell_type": "code",
   "execution_count": null,
   "metadata": {},
   "outputs": [],
   "source": [
    "identifica_outliers(data, 5, 0.25, 0.75)\n",
    "print(\"\\n\\n\")\n",
    "replace_outliers_with_mean(data, 5, 0.25, 0.75)"
   ]
  },
  {
   "cell_type": "code",
   "execution_count": null,
   "metadata": {},
   "outputs": [],
   "source": [
    "identifica_outliers(data, 6, 0.25, 0.75)\n",
    "print(\"\\n\\n\")\n",
    "replace_outliers_with_mean(data, 6, 0.25, 0.75)"
   ]
  },
  {
   "cell_type": "code",
   "execution_count": null,
   "metadata": {},
   "outputs": [],
   "source": [
    "identifica_outliers(data, 7, 0.25, 0.75)\n",
    "print(\"\\n\\n\")\n",
    "replace_outliers_with_mean(data, 7, 0.25, 0.75)"
   ]
  },
  {
   "cell_type": "code",
   "execution_count": null,
   "metadata": {},
   "outputs": [],
   "source": [
    "identifica_outliers(data, 8, 0.25, 0.75)\n",
    "print(\"\\n\\n\")\n",
    "replace_outliers_with_mean(data, 8, 0.25, 0.75)"
   ]
  },
  {
   "cell_type": "code",
   "execution_count": null,
   "metadata": {},
   "outputs": [],
   "source": [
    "identifica_outliers(data, 9, 0.25, 0.75)\n",
    "print(\"\\n\\n\")\n",
    "replace_outliers_with_mean(data, 9, 0.25, 0.75)"
   ]
  },
  {
   "cell_type": "code",
   "execution_count": null,
   "metadata": {},
   "outputs": [],
   "source": [
    "identifica_outliers(data, 10, 0.25, 0.75)\n",
    "print(\"\\n\\n\")\n",
    "replace_outliers_with_mean(data, 10, 0.25, 0.75)"
   ]
  },
  {
   "cell_type": "code",
   "execution_count": null,
   "metadata": {},
   "outputs": [],
   "source": [
    "identifica_outliers(data, 11, 0.25, 0.75)\n",
    "print(\"\\n\\n\")\n",
    "replace_outliers_with_mean(data, 11, 0.25, 0.75)"
   ]
  },
  {
   "cell_type": "markdown",
   "metadata": {},
   "source": [
    "# Dados erro padrão"
   ]
  },
  {
   "cell_type": "code",
   "execution_count": null,
   "metadata": {},
   "outputs": [],
   "source": [
    "identifica_outliers(data, 12, 0.25, 0.75)\n",
    "print(\"\\n\\n\")\n",
    "replace_outliers_with_mean(data, 12, 0.25, 0.75)"
   ]
  },
  {
   "cell_type": "code",
   "execution_count": null,
   "metadata": {},
   "outputs": [],
   "source": [
    "identifica_outliers(data, 13, 0.25, 0.75)\n",
    "print(\"\\n\\n\")\n",
    "replace_outliers_with_mean(data, 13, 0.25, 0.75)"
   ]
  },
  {
   "cell_type": "code",
   "execution_count": null,
   "metadata": {},
   "outputs": [],
   "source": [
    "identifica_outliers(data, 14, 0.25, 0.75)\n",
    "print(\"\\n\\n\")\n",
    "replace_outliers_with_mean(data, 14, 0.25, 0.75)"
   ]
  },
  {
   "cell_type": "code",
   "execution_count": null,
   "metadata": {},
   "outputs": [],
   "source": [
    "identifica_outliers(data, 15, 0.25, 0.75)\n",
    "print(\"\\n\\n\")\n",
    "replace_outliers_with_mean(data, 15, 0.25, 0.75)"
   ]
  },
  {
   "cell_type": "code",
   "execution_count": null,
   "metadata": {},
   "outputs": [],
   "source": [
    "identifica_outliers(data, 16, 0.25, 0.75)\n",
    "print(\"\\n\\n\")\n",
    "replace_outliers_with_mean(data, 16, 0.25, 0.75)"
   ]
  },
  {
   "cell_type": "code",
   "execution_count": null,
   "metadata": {},
   "outputs": [],
   "source": [
    "identifica_outliers(data, 17, 0.25, 0.75)\n",
    "print(\"\\n\\n\")\n",
    "replace_outliers_with_mean(data, 17, 0.25, 0.75)"
   ]
  },
  {
   "cell_type": "code",
   "execution_count": null,
   "metadata": {},
   "outputs": [],
   "source": [
    "identifica_outliers(data, 18, 0.25, 0.75)\n",
    "print(\"\\n\\n\")\n",
    "replace_outliers_with_mean(data, 18, 0.25, 0.75)"
   ]
  },
  {
   "cell_type": "code",
   "execution_count": null,
   "metadata": {},
   "outputs": [],
   "source": [
    "identifica_outliers(data, 19, 0.25, 0.75)\n",
    "print(\"\\n\\n\")\n",
    "replace_outliers_with_mean(data, 19, 0.25, 0.75)"
   ]
  },
  {
   "cell_type": "code",
   "execution_count": null,
   "metadata": {},
   "outputs": [],
   "source": [
    "identifica_outliers(data, 20, 0.25, 0.75)\n",
    "print(\"\\n\\n\")\n",
    "replace_outliers_with_mean(data, 20, 0.25, 0.75)"
   ]
  },
  {
   "cell_type": "code",
   "execution_count": null,
   "metadata": {},
   "outputs": [],
   "source": [
    "identifica_outliers(data, 21, 0.25, 0.75)\n",
    "print(\"\\n\\n\")\n",
    "replace_outliers_with_mean(data, 21, 0.25, 0.75)"
   ]
  },
  {
   "cell_type": "markdown",
   "metadata": {},
   "source": [
    "# Dados piores"
   ]
  },
  {
   "cell_type": "code",
   "execution_count": null,
   "metadata": {},
   "outputs": [],
   "source": [
    "identifica_outliers(data, 22, 0.25, 0.75)\n",
    "print(\"\\n\\n\")\n",
    "replace_outliers_with_mean(data, 22, 0.25, 0.75)"
   ]
  },
  {
   "cell_type": "code",
   "execution_count": null,
   "metadata": {},
   "outputs": [],
   "source": [
    "identifica_outliers(data, 23, 0.25, 0.75)\n",
    "print(\"\\n\\n\")\n",
    "replace_outliers_with_mean(data, 23, 0.25, 0.75)"
   ]
  },
  {
   "cell_type": "code",
   "execution_count": null,
   "metadata": {},
   "outputs": [],
   "source": [
    "identifica_outliers(data, 24, 0.25, 0.75)\n",
    "print(\"\\n\\n\")\n",
    "replace_outliers_with_mean(data, 24, 0.25, 0.75)"
   ]
  },
  {
   "cell_type": "code",
   "execution_count": null,
   "metadata": {},
   "outputs": [],
   "source": [
    "identifica_outliers(data, 25, 0.25, 0.75)\n",
    "print(\"\\n\\n\")\n",
    "replace_outliers_with_mean(data, 25, 0.25, 0.75)"
   ]
  },
  {
   "cell_type": "code",
   "execution_count": null,
   "metadata": {},
   "outputs": [],
   "source": [
    "identifica_outliers(data, 26, 0.25, 0.75)\n",
    "print(\"\\n\\n\")\n",
    "replace_outliers_with_mean(data, 26, 0.25, 0.75)"
   ]
  },
  {
   "cell_type": "code",
   "execution_count": null,
   "metadata": {},
   "outputs": [],
   "source": [
    "identifica_outliers(data, 27, 0.25, 0.75)\n",
    "print(\"\\n\\n\")\n",
    "replace_outliers_with_mean(data, 27, 0.25, 0.75)"
   ]
  },
  {
   "cell_type": "code",
   "execution_count": null,
   "metadata": {},
   "outputs": [],
   "source": [
    "identifica_outliers(data, 28, 0.25, 0.75)\n",
    "print(\"\\n\\n\")\n",
    "replace_outliers_with_mean(data, 28, 0.25, 0.75)"
   ]
  },
  {
   "cell_type": "code",
   "execution_count": null,
   "metadata": {},
   "outputs": [],
   "source": [
    "identifica_outliers(data, 29, 0.25, 0.75)\n",
    "print(\"\\n\\n\")\n",
    "replace_outliers_with_mean(data, 29, 0.25, 0.75)"
   ]
  },
  {
   "cell_type": "code",
   "execution_count": null,
   "metadata": {},
   "outputs": [],
   "source": [
    "identifica_outliers(data, 30, 0.25, 0.75)\n",
    "print(\"\\n\\n\")\n",
    "replace_outliers_with_mean(data, 30, 0.25, 0.75)"
   ]
  },
  {
   "cell_type": "code",
   "execution_count": null,
   "metadata": {},
   "outputs": [],
   "source": [
    "identifica_outliers(data, 31, 0.25, 0.75)\n",
    "print(\"\\n\\n\")\n",
    "replace_outliers_with_mean(data, 31, 0.25, 0.75)"
   ]
  },
  {
   "cell_type": "markdown",
   "metadata": {
    "slideshow": {
     "slide_type": "fragment"
    }
   },
   "source": [
    "# Identificando a escala dos dados"
   ]
  },
  {
   "cell_type": "code",
   "execution_count": null,
   "metadata": {},
   "outputs": [],
   "source": [
    "%%HTML\n",
    "<h1> ID = Nominal </h1> <br>\n",
    "<h2> Diagnostico = Nominal </h2> <br>\n",
    "<br><br>\n",
    "<table>\n",
    "    <tr>\n",
    "        <td>Raio_med = Racional</td>\n",
    "        Textura_med = Racional<br>\n",
    "        Perimetro_med = Racional<br>\n",
    "        Area_med = Racional<br>\n",
    "        Suavidade_med = Racional<br>\n",
    "        Compacidade_med = Racional<br>\n",
    "        Concavidade_med = Racional<br>\n",
    "        Pontos concavos_med = Racional<br>\n",
    "        Simetria_med = Racional<br>\n",
    "        Dimensao fractal_med = Racional<br>\n",
    "    </tr>\n",
    "    <br>\n",
    "    <tr>\n",
    "        Raio_ep = Racional<br>\n",
    "        Textura_ep = Racional<br>\n",
    "        Perimetro_ep = Racional<br>\n",
    "        Area_ep = Racional<br>\n",
    "        Suavidade_ep = Racional<br>\n",
    "        Compacidade_ep = Racional<br>\n",
    "        Concavidade_ep = Racional<br>\n",
    "        Pontos concavos_ep = Racional<br>\n",
    "        Simetria_ep = Racional<br>\n",
    "        Dimensao fractal_ep = Racional<br>\n",
    "    </tr>\n",
    "    <br>\n",
    "    <tr>\n",
    "        Raio_pior = Racional<br>\n",
    "        Textura_pior = Racional<br>\n",
    "        Perimetro_pior = Racional<br>\n",
    "        Area_pior = Racional<br>\n",
    "        Suavidade_pior = Racional<br>\n",
    "        Compacidade_pior = Racional<br>\n",
    "        Concavidade_pior = Racional<br>\n",
    "        Pontos concavos_pior = Racional<br>\n",
    "        Simetria_pior = Racional<br>\n",
    "        Dimensao fractal_pior = Racional\n",
    "    </tr>\n",
    "</table>"
   ]
  },
  {
   "cell_type": "markdown",
   "metadata": {},
   "source": []
  },
  {
   "cell_type": "code",
   "execution_count": null,
   "metadata": {},
   "outputs": [],
   "source": []
  },
  {
   "cell_type": "code",
   "execution_count": null,
   "metadata": {},
   "outputs": [],
   "source": []
  }
 ],
 "metadata": {
  "kernelspec": {
   "display_name": "Python 3",
   "language": "python",
   "name": "python3"
  },
  "language_info": {
   "codemirror_mode": {
    "name": "ipython",
    "version": 3
   },
   "file_extension": ".py",
   "mimetype": "text/x-python",
   "name": "python",
   "nbconvert_exporter": "python",
   "pygments_lexer": "ipython3",
   "version": "3.11.9"
  }
 },
 "nbformat": 4,
 "nbformat_minor": 2
}
