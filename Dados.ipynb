{
 "cells": [
  {
   "cell_type": "code",
   "execution_count": null,
   "metadata": {},
   "outputs": [],
   "source": [
    "#Imports\n",
    "import pandas as pd\n",
    "import numpy as np\n",
    "import matplotlib.pyplot as plt"
   ]
  },
  {
   "cell_type": "markdown",
   "metadata": {},
   "source": [
    "# Amostragem de dados"
   ]
  },
  {
   "cell_type": "code",
   "execution_count": null,
   "metadata": {},
   "outputs": [],
   "source": [
    "data = pd.read_csv('data\\wdbc.data') #Read the data from the file\n",
    "data.head(6) #Display the first 6 rows of the data"
   ]
  },
  {
   "cell_type": "code",
   "execution_count": null,
   "metadata": {},
   "outputs": [],
   "source": [
    "data.shape #Quantidade de instancias e features do dataset"
   ]
  },
  {
   "cell_type": "code",
   "execution_count": null,
   "metadata": {},
   "outputs": [],
   "source": [
    "data[\"diagnostico\"].value_counts() #Atributo alvo do dataset dividido em benigno e maligno"
   ]
  },
  {
   "cell_type": "code",
   "execution_count": null,
   "metadata": {},
   "outputs": [],
   "source": [
    "quantitative_classes = data.select_dtypes(include=['float64', 'int64'])\n",
    "#quantitative_classes.count()\n",
    "print(len(quantitative_classes.columns))"
   ]
  },
  {
   "cell_type": "code",
   "execution_count": null,
   "metadata": {},
   "outputs": [],
   "source": [
    "qualitative_classes = data.select_dtypes(include=['object'])\n",
    "#qualitative_classes.count()\n",
    "print(len(qualitative_classes.columns))"
   ]
  },
  {
   "cell_type": "markdown",
   "metadata": {
    "slideshow": {
     "slide_type": "fragment"
    }
   },
   "source": [
    "# Identificando a escala dos dados\n",
    "\n",
    "ID = Nominal <br>\n",
    "Diagnostico = Nominal<br>\n",
    "Raio_med = Racional<br>\n",
    "Textura_med = Racional<br>\n",
    "Perimetro_med = Racional<br>\n",
    "Area_med = Racional<br>\n",
    "Suavidade_med = Racional<br>\n",
    "Compacidade_med = Racional<br>\n",
    "Concavidade_med = Racional<br>\n",
    "Pontos concavos_med = Racional<br>\n",
    "Simetria_med = Racional<br>\n",
    "Dimensao fractal_med = Racional<br>\n",
    "Raio_ep = Racional<br>\n",
    "Textura_ep = Racional<br>\n",
    "Perimetro_ep = Racional<br>\n",
    "Area_ep = Racional<br>\n",
    "Suavidade_ep = Racional<br>\n",
    "Compacidade_ep = Racional<br>\n",
    "Concavidade_ep = Racional<br>\n",
    "Pontos concavos_ep = Racional<br>\n",
    "Simetria_ep = Racional<br>\n",
    "Dimensao fractal_ep = Racional<br>\n",
    "Raio_pior = Racional<br>\n",
    "Textura_pior = Racional<br>\n",
    "Perimetro_pior = Racional<br>\n",
    "Area_pior = Racional<br>\n",
    "Suavidade_pior = Racional<br>\n",
    "Compacidade_pior = Racional<br>\n",
    "Concavidade_pior = Racional<br>\n",
    "Pontos concavos_pior = Racional<br>\n",
    "Simetria_pior = Racional<br>\n",
    "Dimensao fractal_pior = Racional"
   ]
  },
  {
   "cell_type": "code",
   "execution_count": null,
   "metadata": {},
   "outputs": [],
   "source": []
  }
 ],
 "metadata": {
  "kernelspec": {
   "display_name": "Python 3",
   "language": "python",
   "name": "python3"
  },
  "language_info": {
   "codemirror_mode": {
    "name": "ipython",
    "version": 3
   },
   "file_extension": ".py",
   "mimetype": "text/x-python",
   "name": "python",
   "nbconvert_exporter": "python",
   "pygments_lexer": "ipython3",
   "version": "3.11.9"
  }
 },
 "nbformat": 4,
 "nbformat_minor": 2
}
