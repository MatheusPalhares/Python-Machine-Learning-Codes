{
 "cells": [
  {
   "cell_type": "code",
   "execution_count": null,
   "metadata": {},
   "outputs": [],
   "source": [
    "#Imports\n",
    "import pandas as pd\n",
    "import numpy as np\n",
    "import matplotlib.pyplot as plt"
   ]
  },
  {
   "cell_type": "markdown",
   "metadata": {},
   "source": [
    "# Amostragem de dados"
   ]
  },
  {
   "cell_type": "code",
   "execution_count": null,
   "metadata": {},
   "outputs": [],
   "source": [
    "data = pd.read_csv('data\\wdbc.data') #Read the data from the file\n",
    "data.head(6) #Display the first 6 rows of the data"
   ]
  },
  {
   "cell_type": "code",
   "execution_count": null,
   "metadata": {},
   "outputs": [],
   "source": [
    "data.shape #Quantidade de instancias e features do dataset"
   ]
  },
  {
   "cell_type": "code",
   "execution_count": null,
   "metadata": {},
   "outputs": [],
   "source": [
    "data[\"diagnostico\"].value_counts() #Atributo alvo do dataset dividido em benigno e maligno"
   ]
  },
  {
   "cell_type": "code",
   "execution_count": null,
   "metadata": {},
   "outputs": [],
   "source": [
    "quantitative_classes = data.select_dtypes(include=['float64', 'int64'])\n",
    "#quantitative_classes.count()\n",
    "print(len(quantitative_classes.columns) - 1) #Quantidade de features quantitativas do dataset"
   ]
  },
  {
   "cell_type": "code",
   "execution_count": null,
   "metadata": {},
   "outputs": [],
   "source": [
    "qualitative_classes = data.select_dtypes(include=['object', 'string'])\n",
    "#qualitative_classes.count()\n",
    "print(len(qualitative_classes.columns) + 1) #Quantidade de features qualitativas do dataset"
   ]
  },
  {
   "cell_type": "markdown",
   "metadata": {},
   "source": [
    "# Exploração dos dados por medidas de localidade"
   ]
  },
  {
   "cell_type": "code",
   "execution_count": null,
   "metadata": {},
   "outputs": [],
   "source": [
    "data2 = data.drop(columns=['id', 'diagnostico']) #Remove as colunas id e diagnostico\n",
    "data_mean = data2.mean()\n",
    "print(f\"Média dos dados: \\n\\n{data_mean}\") #Média de cada feature do dataset"
   ]
  },
  {
   "cell_type": "code",
   "execution_count": null,
   "metadata": {},
   "outputs": [],
   "source": [
    "data_mediana = data2.median() #Mediana de cada feature do dataset\n",
    "print(f\"Mediana dos dados: \\n\\n{data_mediana}\")"
   ]
  },
  {
   "cell_type": "code",
   "execution_count": null,
   "metadata": {},
   "outputs": [],
   "source": [
    "data_moda = data.drop(columns='id').mode() #Moda de cada feature do dataset\n",
    "print(f\"Moda dos dados: \\n\\n{data_moda}\")"
   ]
  },
  {
   "cell_type": "markdown",
   "metadata": {},
   "source": [
    "# Exploração dos dados por medidas de espalhamento"
   ]
  },
  {
   "cell_type": "code",
   "execution_count": null,
   "metadata": {},
   "outputs": [],
   "source": [
    "data_variancia = data2.var() #Variância de cada feature do dataset\n",
    "print(f\"Variancia dos dados: \\n\\n{data_variancia}\")"
   ]
  },
  {
   "cell_type": "code",
   "execution_count": null,
   "metadata": {},
   "outputs": [],
   "source": [
    "data_quartil = data2.quantile([0.25, 0.5, 0.75]) #Quartis de cada feature do dataset\n",
    "print(f\"Quartis dos dados: \\n\\n{data_quartil}\")"
   ]
  },
  {
   "cell_type": "code",
   "execution_count": null,
   "metadata": {},
   "outputs": [],
   "source": [
    "data_desvio_padrao = data2.std() #Desvio padrão de cada feature do dataset\n",
    "print(f\"Desvio padrão dos dados: \\n\\n{data_desvio_padrao}\")"
   ]
  },
  {
   "cell_type": "code",
   "execution_count": null,
   "metadata": {},
   "outputs": [],
   "source": [
    "data_amp = data2.max() - data2.min() #Amplitude de cada feature do dataset\n",
    "print(f\"Amplitude dos dados: \\n\\n{data_amp}\")"
   ]
  },
  {
   "cell_type": "markdown",
   "metadata": {},
   "source": [
    "# Exploração dos dados por medidas de distribuição"
   ]
  },
  {
   "cell_type": "code",
   "execution_count": null,
   "metadata": {},
   "outputs": [],
   "source": [
    "data_momento = data2.kurtosis() #Momento de cada feature do dataset\n",
    "print(f\"Momento dos dados: \\n\\n{data_momento}\")"
   ]
  },
  {
   "cell_type": "code",
   "execution_count": null,
   "metadata": {},
   "outputs": [],
   "source": [
    "data_obliquidade = data2.skew() #Obliquidade de cada feature do dataset\n",
    "print(f\"Obliquidade dos dados: \\n\\n{data_obliquidade}\")"
   ]
  },
  {
   "cell_type": "markdown",
   "metadata": {},
   "source": [
    "# Reescala do atributo alvo de Categórico para Numérico"
   ]
  },
  {
   "cell_type": "code",
   "execution_count": null,
   "metadata": {},
   "outputs": [],
   "source": [
    "def categorico_to_numerico_diagnostico(x):\n",
    "    if x=='M':\n",
    "        return 1\n",
    "    if x=='B':\n",
    "        return 0\n",
    "\n",
    "data['diagnostico']= data['diagnostico'].apply(categorico_to_numerico_diagnostico)\n",
    "data[\"diagnostico\"].value_counts()"
   ]
  },
  {
   "cell_type": "markdown",
   "metadata": {},
   "source": [
    "# Observando a correlação das features com o atributo alvo"
   ]
  },
  {
   "cell_type": "code",
   "execution_count": null,
   "metadata": {},
   "outputs": [],
   "source": [
    "#Correlação entre as features e o diagnóstico usando o método de Pearson\n",
    "f, ax = plt.subplots(figsize=(18, 12))\n",
    "tst = data.drop(columns='id').corr('pearson')['diagnostico'].copy()\n",
    "tst = tst.drop('diagnostico')\n",
    "tst.sort_values(inplace=True)\n",
    "tst.plot(kind=\"bar\", alpha=1, title=\"Correlação entre as features e o diagnóstico usando o método de Pearson (±1 = correlação total)\")"
   ]
  },
  {
   "cell_type": "markdown",
   "metadata": {},
   "source": [
    "# Identificação dos outliers presentes nos dados"
   ]
  },
  {
   "cell_type": "code",
   "execution_count": null,
   "metadata": {},
   "outputs": [],
   "source": [
    "fig, ax = plt.subplots(1, 10, figsize=(20, 10))\n",
    "data.boxplot(column='raio_med', ax=ax[0], capprops=dict(color='red', linewidth=3, markersize=10))\n",
    "data.boxplot(column='textura_med', ax=ax[1], capprops=dict(color='red', linewidth=3, markersize=10))\n",
    "data.boxplot(column='perimetro_med', ax=ax[2], capprops=dict(color='red', linewidth=3, markersize=10))\n",
    "data.boxplot(column='area_med', ax=ax[3], capprops=dict(color='red', linewidth=3, markersize=10))\n",
    "data.boxplot(column='suavidade_med', ax=ax[4], capprops=dict(color='red', linewidth=3, markersize=10))\n",
    "data.boxplot(column='compacidade_med', ax=ax[5], capprops=dict(color='red', linewidth=3, markersize=10))\n",
    "data.boxplot(column='concavidade_med', ax=ax[6], capprops=dict(color='red', linewidth=3, markersize=10))\n",
    "data.boxplot(column='pontos concavos_med', ax=ax[7], capprops=dict(color='red', linewidth=3, markersize=10))\n",
    "data.boxplot(column='simetria_med', ax=ax[8], capprops=dict(color='red', linewidth=3, markersize=10))\n",
    "data.boxplot(column='dimensao fractal_med', ax=ax[9], capprops=dict(color='red', linewidth=3, markersize=10))\n",
    "plt.subplots_adjust(wspace=0.5)\n",
    "plt.show()"
   ]
  },
  {
   "cell_type": "code",
   "execution_count": null,
   "metadata": {},
   "outputs": [],
   "source": [
    "fig, ax = plt.subplots(1, 10, figsize=(20, 10))\n",
    "data.boxplot(column='raio_ep', ax=ax[0], capprops=dict(color='red', linewidth=3, markersize=10))\n",
    "data.boxplot(column='textura_ep', ax=ax[1], capprops=dict(color='red', linewidth=3, markersize=10))\n",
    "data.boxplot(column='perimetro_ep', ax=ax[2], capprops=dict(color='red', linewidth=3, markersize=10))\n",
    "data.boxplot(column='area_ep', ax=ax[3], capprops=dict(color='red', linewidth=3, markersize=10))\n",
    "data.boxplot(column='suavidade_ep', ax=ax[4], capprops=dict(color='red', linewidth=3, markersize=10))\n",
    "data.boxplot(column='compacidade_ep', ax=ax[5], capprops=dict(color='red', linewidth=3, markersize=10))\n",
    "data.boxplot(column='concavidade_ep', ax=ax[6], capprops=dict(color='red', linewidth=3, markersize=10))\n",
    "data.boxplot(column='pontos concavos_ep', ax=ax[7], capprops=dict(color='red', linewidth=3, markersize=10))\n",
    "data.boxplot(column='simetria_ep', ax=ax[8], capprops=dict(color='red', linewidth=3, markersize=10))\n",
    "data.boxplot(column='dimensao fractal_ep', ax=ax[9], capprops=dict(color='red', linewidth=3, markersize=10))\n",
    "plt.subplots_adjust(wspace=0.5)\n",
    "plt.show()"
   ]
  },
  {
   "cell_type": "code",
   "execution_count": null,
   "metadata": {},
   "outputs": [],
   "source": [
    "fig, ax = plt.subplots(1, 10, figsize=(20, 10))\n",
    "data.boxplot(column='raio_pior', ax=ax[0], capprops=dict(color='red', linewidth=3, markersize=10))\n",
    "data.boxplot(column='textura_pior', ax=ax[1], capprops=dict(color='red', linewidth=3, markersize=10))\n",
    "data.boxplot(column='perimetro_pior', ax=ax[2], capprops=dict(color='red', linewidth=3, markersize=10))\n",
    "data.boxplot(column='area_pior', ax=ax[3], capprops=dict(color='red', linewidth=3, markersize=10))\n",
    "data.boxplot(column='suavidade_pior', ax=ax[4], capprops=dict(color='red', linewidth=3, markersize=10))\n",
    "data.boxplot(column='compacidade_pior', ax=ax[5], capprops=dict(color='red', linewidth=3, markersize=10))\n",
    "data.boxplot(column='concavidade_pior', ax=ax[6], capprops=dict(color='red', linewidth=3, markersize=10))\n",
    "data.boxplot(column='pontos concavos_pior', ax=ax[7], capprops=dict(color='red', linewidth=3, markersize=10))\n",
    "data.boxplot(column='simetria_pior', ax=ax[8], capprops=dict(color='red', linewidth=3, markersize=10))\n",
    "data.boxplot(column='dimensao fractal_pior', ax=ax[9], capprops=dict(color='red', linewidth=3, markersize=10))\n",
    "plt.subplots_adjust(wspace=0.5)\n",
    "plt.show()"
   ]
  },
  {
   "cell_type": "code",
   "execution_count": 58,
   "metadata": {},
   "outputs": [
    {
     "name": "stdout",
     "output_type": "stream",
     "text": [
      "0      17.99\n",
      "1      20.57\n",
      "2      19.69\n",
      "3      11.42\n",
      "4      20.29\n",
      "       ...  \n",
      "564    21.56\n",
      "565    20.13\n",
      "566    16.60\n",
      "567    20.60\n",
      "568     7.76\n",
      "Name: raio_med, Length: 569, dtype: float64\n",
      "0      17.99\n",
      "1      20.57\n",
      "2      19.69\n",
      "3      11.42\n",
      "4      20.29\n",
      "       ...  \n",
      "564    21.56\n",
      "565    20.13\n",
      "566    16.60\n",
      "567    20.60\n",
      "568     7.76\n",
      "Name: raio_med, Length: 555, dtype: float64\n"
     ]
    }
   ],
   "source": [
    "dataClean = data\n",
    "\n",
    "Q1_raioMed = data['raio_med'].quantile(0.25)\n",
    "Q3_raioMed = data['raio_med'].quantile(0.75)\n",
    "IQR = Q3_raioMed - Q1_raioMed\n",
    "limite_inferior = Q1_raioMed - 1.5 * IQR\n",
    "limite_superior = Q3_raioMed + 1.5 * IQR\n",
    "\n",
    "data_outliers = data[(data['raio_med'] >= limite_inferior) & (data['raio_med'] <= limite_superior)]\n",
    "dataClean.update(data_outliers)\n",
    "#print(f\"Quantidade de outliers removidos da coluna raio_med: {len(data) - len(data_outliers)}\")\n",
    "#print(dataClean['raio_med'])\n",
    "print(data_outliers['raio_med'])"
   ]
  },
  {
   "cell_type": "code",
   "execution_count": null,
   "metadata": {},
   "outputs": [],
   "source": [
    "Q1_texturaMed = data['textura_med'].quantile(0.25)\n",
    "Q3_texturaMed = data['textura_med'].quantile(0.75)\n",
    "IQR = Q3_texturaMed - Q1_texturaMed\n",
    "limite_inferior = Q1_texturaMed - 1.5 * IQR\n",
    "limite_superior = Q3_texturaMed + 1.5 * IQR\n",
    "\n",
    "data_outliers = data[(data['textura_med'] >= limite_inferior) & (data['textura_med'] <= limite_superior)]\n",
    "print(f\"Quantidade de outliers removidos da coluna textura_med: {len(data) - len(data_outliers)}\")"
   ]
  },
  {
   "cell_type": "code",
   "execution_count": null,
   "metadata": {},
   "outputs": [],
   "source": [
    "Q1_perimetroMed = data['perimetro_med'].quantile(0.25)\n",
    "Q3_perimetroMed = data['perimetro_med'].quantile(0.75)\n",
    "IQR = Q3_perimetroMed - Q1_perimetroMed\n",
    "limite_inferior = Q1_perimetroMed - 1.5 * IQR\n",
    "limite_superior = Q3_perimetroMed + 1.5 * IQR\n",
    "\n",
    "data_outliers = data[(data['perimetro_med'] >= limite_inferior) & (data['perimetro_med'] <= limite_superior)]\n",
    "print(f\"Quantidade de outliers removidos da coluna perimetro_med: {len(data) - len(data_outliers)}\")"
   ]
  },
  {
   "cell_type": "code",
   "execution_count": null,
   "metadata": {},
   "outputs": [],
   "source": [
    "Q1_areaMed = data['area_med'].quantile(0.25)\n",
    "Q3_areaMed = data['area_med'].quantile(0.75)\n",
    "IQR = Q3_areaMed - Q1_areaMed\n",
    "limite_inferior = Q1_areaMed - 1.5 * IQR\n",
    "limite_superior = Q3_areaMed + 1.5 * IQR\n",
    "\n",
    "data_outliers = data[(data['area_med'] >= limite_inferior) & (data['area_med'] <= limite_superior)]\n",
    "print(f\"Quantidade de outliers removidos da coluna area_med: {len(data) - len(data_outliers)}\")"
   ]
  },
  {
   "cell_type": "code",
   "execution_count": null,
   "metadata": {},
   "outputs": [],
   "source": [
    "Q1_suavidadeMed = data['suavidade_med'].quantile(0.25)\n",
    "Q3_suavidadeMed = data['suavidade_med'].quantile(0.75)\n",
    "IQR = Q3_suavidadeMed - Q1_suavidadeMed\n",
    "limite_inferior = Q1_suavidadeMed - 1.5 * IQR\n",
    "limite_superior = Q3_suavidadeMed + 1.5 * IQR\n",
    "\n",
    "data_outliers = data[(data['suavidade_med'] >= limite_inferior) & (data['suavidade_med'] <= limite_superior)]\n",
    "print(f\"Quantidade de outliers removidos da coluna suavidade_med: {len(data) - len(data_outliers)}\")"
   ]
  },
  {
   "cell_type": "code",
   "execution_count": null,
   "metadata": {},
   "outputs": [],
   "source": [
    "Q1_compacidadeMed = data['compacidade_med'].quantile(0.25)\n",
    "Q3_compacidadeMed = data['compacidade_med'].quantile(0.75)\n",
    "IQR = Q3_compacidadeMed - Q1_compacidadeMed\n",
    "limite_inferior = Q1_compacidadeMed - 1.5 * IQR\n",
    "limite_superior = Q3_compacidadeMed + 1.5 * IQR\n",
    "\n",
    "data_outliers = data[(data['compacidade_med'] >= limite_inferior) & (data['compacidade_med'] <= limite_superior)]\n",
    "print(f\"Quantidade de outliers removidos da coluna compacidade_med: {len(data) - len(data_outliers)}\")"
   ]
  },
  {
   "cell_type": "code",
   "execution_count": null,
   "metadata": {},
   "outputs": [],
   "source": [
    "Q1_concavidadeMed = data['concavidade_med'].quantile(0.25)\n",
    "Q3_concavidadeMed = data['concavidade_med'].quantile(0.75)\n",
    "IQR = Q3_concavidadeMed - Q1_concavidadeMed\n",
    "limite_inferior = Q1_concavidadeMed - 1.5 * IQR\n",
    "limite_superior = Q3_concavidadeMed + 1.5 * IQR\n",
    "\n",
    "data_outliers = data[(data['concavidade_med'] >= limite_inferior) & (data['concavidade_med'] <= limite_superior)]\n",
    "print(f\"Quantidade de outliers removidos da coluna concavidade_med: {len(data) - len(data_outliers)}\")"
   ]
  },
  {
   "cell_type": "code",
   "execution_count": null,
   "metadata": {},
   "outputs": [],
   "source": [
    "Q1_pontosConcavosMed = data['pontos concavos_med'].quantile(0.25)\n",
    "Q3_pontosConcavosMed = data['pontos concavos_med'].quantile(0.75)\n",
    "IQR = Q3_pontosConcavosMed - Q1_pontosConcavosMed\n",
    "limite_inferior = Q1_pontosConcavosMed - 1.5 * IQR\n",
    "limite_superior = Q3_pontosConcavosMed + 1.5 * IQR\n",
    "\n",
    "data_outliers = data[(data['pontos concavos_med'] >= limite_inferior) & (data['pontos concavos_med'] <= limite_superior)]\n",
    "print(f\"Quantidade de outliers removidos da coluna pontos concavos_med: {len(data) - len(data_outliers)}\")"
   ]
  },
  {
   "cell_type": "code",
   "execution_count": null,
   "metadata": {},
   "outputs": [],
   "source": [
    "Q1_simetriaMed = data['simetria_med'].quantile(0.25)\n",
    "Q3_simetriaMed = data['simetria_med'].quantile(0.75)\n",
    "IQR = Q3_simetriaMed - Q1_simetriaMed\n",
    "limite_inferior = Q1_simetriaMed - 1.5 * IQR\n",
    "limite_superior = Q3_simetriaMed + 1.5 * IQR\n",
    "\n",
    "data_outliers = data[(data['simetria_med'] >= limite_inferior) & (data['simetria_med'] <= limite_superior)]\n",
    "print(f\"Quantidade de outliers removidos da coluna simetria_med: {len(data) - len(data_outliers)}\")"
   ]
  },
  {
   "cell_type": "markdown",
   "metadata": {
    "slideshow": {
     "slide_type": "fragment"
    }
   },
   "source": [
    "# Identificando a escala dos dados"
   ]
  },
  {
   "cell_type": "code",
   "execution_count": null,
   "metadata": {},
   "outputs": [],
   "source": [
    "%%HTML\n",
    "<h1> ID = Nominal </h1> <br>\n",
    "<h2> Diagnostico = Nominal </h2> <br>\n",
    "<br><br>\n",
    "<table>\n",
    "    <tr>\n",
    "        <td>Raio_med = Racional</td>\n",
    "        Textura_med = Racional<br>\n",
    "        Perimetro_med = Racional<br>\n",
    "        Area_med = Racional<br>\n",
    "        Suavidade_med = Racional<br>\n",
    "        Compacidade_med = Racional<br>\n",
    "        Concavidade_med = Racional<br>\n",
    "        Pontos concavos_med = Racional<br>\n",
    "        Simetria_med = Racional<br>\n",
    "        Dimensao fractal_med = Racional<br>\n",
    "    </tr>\n",
    "    <br>\n",
    "    <tr>\n",
    "        Raio_ep = Racional<br>\n",
    "        Textura_ep = Racional<br>\n",
    "        Perimetro_ep = Racional<br>\n",
    "        Area_ep = Racional<br>\n",
    "        Suavidade_ep = Racional<br>\n",
    "        Compacidade_ep = Racional<br>\n",
    "        Concavidade_ep = Racional<br>\n",
    "        Pontos concavos_ep = Racional<br>\n",
    "        Simetria_ep = Racional<br>\n",
    "        Dimensao fractal_ep = Racional<br>\n",
    "    </tr>\n",
    "    <br>\n",
    "    <tr>\n",
    "        Raio_pior = Racional<br>\n",
    "        Textura_pior = Racional<br>\n",
    "        Perimetro_pior = Racional<br>\n",
    "        Area_pior = Racional<br>\n",
    "        Suavidade_pior = Racional<br>\n",
    "        Compacidade_pior = Racional<br>\n",
    "        Concavidade_pior = Racional<br>\n",
    "        Pontos concavos_pior = Racional<br>\n",
    "        Simetria_pior = Racional<br>\n",
    "        Dimensao fractal_pior = Racional\n",
    "    </tr>\n",
    "</table>"
   ]
  },
  {
   "cell_type": "markdown",
   "metadata": {},
   "source": []
  },
  {
   "cell_type": "code",
   "execution_count": null,
   "metadata": {},
   "outputs": [],
   "source": []
  },
  {
   "cell_type": "code",
   "execution_count": null,
   "metadata": {},
   "outputs": [],
   "source": []
  }
 ],
 "metadata": {
  "kernelspec": {
   "display_name": "Python 3",
   "language": "python",
   "name": "python3"
  },
  "language_info": {
   "codemirror_mode": {
    "name": "ipython",
    "version": 3
   },
   "file_extension": ".py",
   "mimetype": "text/x-python",
   "name": "python",
   "nbconvert_exporter": "python",
   "pygments_lexer": "ipython3",
   "version": "3.11.9"
  }
 },
 "nbformat": 4,
 "nbformat_minor": 2
}
